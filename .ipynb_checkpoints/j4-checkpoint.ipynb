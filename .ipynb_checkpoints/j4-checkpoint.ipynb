{
 "cells": [
  {
   "cell_type": "code",
   "execution_count": 1,
   "metadata": {},
   "outputs": [],
   "source": [
    "import os\n",
    "import pickle\n",
    "from win32gui import FindWindow, SetForegroundWindow, GetClientRect, ClientToScreen\n",
    "import pyautogui\n",
    "import cv2\n",
    "import numpy as np\n",
    "import tensorflow as tf\n",
    "import tkinter as tk\n",
    "from PIL import Image, ImageTk\n",
    "from threading import Thread\n",
    "from ctypes import windll\n",
    "from math import floor, ceil\n",
    "import win32api\n",
    "import time"
   ]
  },
  {
   "cell_type": "code",
   "execution_count": 2,
   "metadata": {},
   "outputs": [
    {
     "data": {
      "text/plain": [
       "'\\nfrom win32gui import GetWindowText, EnumWindows\\ndef enum_window_titles():\\n\\t#returns all open window class names\\n\\tdef callback(handle, data):\\n\\t\\ttitles.append(GetWindowText(handle))\\n\\ttitles = []\\n\\tEnumWindows(callback, None)\\n\\treturn titles\\nprint(enum_window_titles())\\nenum_window_titles()\\n'"
      ]
     },
     "execution_count": 2,
     "metadata": {},
     "output_type": "execute_result"
    }
   ],
   "source": [
    "\"\"\"\n",
    "from win32gui import GetWindowText, EnumWindows\n",
    "def enum_window_titles():\n",
    "\t#returns all open window class names\n",
    "\tdef callback(handle, data):\n",
    "\t\ttitles.append(GetWindowText(handle))\n",
    "\ttitles = []\n",
    "\tEnumWindows(callback, None)\n",
    "\treturn titles\n",
    "print(enum_window_titles())\n",
    "enum_window_titles()\n",
    "\"\"\""
   ]
  },
  {
   "cell_type": "code",
   "execution_count": 3,
   "metadata": {},
   "outputs": [],
   "source": [
    "#------------------------------------------------------------------------------------------------------------------------------"
   ]
  },
  {
   "cell_type": "code",
   "execution_count": 4,
   "metadata": {},
   "outputs": [],
   "source": [
    "checkpoint_path = \"C:/Users/8holz/Dokumente/GitHub/K14/Training_Protocol/Model-Color-UNET-Terrosristhunt/weights/saved_model.pb\"\n",
    "checkpoint_dir = os.path.dirname(checkpoint_path)\n",
    "\n",
    "WindowClassName0 = 'Rainbow Six'\n",
    "WindowClassName1 = 'J4 - Jupyter Notebook - Google Chrome'\n",
    "WindowClassName2 = 'tk'\n",
    "\n",
    "PredImage = None\n",
    "ImageTesten = None\n",
    "\n",
    "DATADIR5 = r\"D:\\K14\\Dataset\\Predicitions.pickle\"\n",
    "\n",
    "StopKey = True\n",
    "MouseDown = False"
   ]
  },
  {
   "cell_type": "code",
   "execution_count": 5,
   "metadata": {},
   "outputs": [],
   "source": [
    "Template = pickle.load(open(r\"D:\\K14\\Dataset\\Predicitions.pickle\", \"rb\"))[40]"
   ]
  },
  {
   "cell_type": "code",
   "execution_count": 6,
   "metadata": {},
   "outputs": [],
   "source": [
    "#------------------------------------------------------------------------------------------------------------------------------"
   ]
  },
  {
   "cell_type": "code",
   "execution_count": 7,
   "metadata": {},
   "outputs": [],
   "source": [
    "def screenshot(window_title=None, lenx=512, leny=512):\n",
    "\tif window_title:\n",
    "\t\thwnd = FindWindow(None, window_title)\n",
    "\t\tif hwnd:\n",
    "\t\t\tSetForegroundWindow(hwnd)\n",
    "\t\t\tx, y, x1, y1 = GetClientRect(hwnd)\n",
    "\t\t\tx, y = ClientToScreen(hwnd, (x, y))\n",
    "\t\t\tx1, y1 = ClientToScreen(hwnd, (x1 - x, y1 - y))\n",
    "\t\t\t# x,y,x1,y1 position and size\n",
    "\t\t\tx += int((x1-lenx)/2)\n",
    "\t\t\tx1 = lenx\n",
    "\t\t\ty += int((y1-leny)/2)\n",
    "\t\t\ty1 = leny\n",
    "\t\t\tim = pyautogui.screenshot(region=(x, y, x1, y1))\n",
    "\t\t\tgray = np.array(im)\n",
    "\t\t\timage = np.array(gray).reshape(-1, lenx, leny, 3)\n",
    "\t\t\treturn image\n",
    "\t\telse:\n",
    "\t\t\tprint('Window not found!')\n",
    "\telse:\n",
    "\t\tim = pyautogui.screenshot()\n",
    "\t\tgray = cv2.cvtColor(np.array(im))\n",
    "\t\timage = np.array(gray).reshape(-1, lenx, leny, 3)\n",
    "\t\treturn image"
   ]
  },
  {
   "cell_type": "code",
   "execution_count": 8,
   "metadata": {},
   "outputs": [],
   "source": [
    "def load_K14():\n",
    "    #model = create_model(IMG_HEIGHT, IMG_WIDTH, IMG_CHANNELS)\n",
    "    #model.summary()\n",
    "    model = tf.keras.models.load_model(checkpoint_dir)\n",
    "    #model.summary()\n",
    "\n",
    "    configproto = tf.compat.v1.ConfigProto() \n",
    "    configproto.gpu_options.allow_growth = True\n",
    "    sess = tf.compat.v1.Session(config=configproto) \n",
    "    tf.compat.v1.keras.backend.set_session(sess)\n",
    "    return model"
   ]
  },
  {
   "cell_type": "code",
   "execution_count": 9,
   "metadata": {},
   "outputs": [],
   "source": [
    "model = load_K14()"
   ]
  },
  {
   "cell_type": "code",
   "execution_count": 10,
   "metadata": {},
   "outputs": [],
   "source": [
    "def xyz(image):\n",
    "    im_preds = model.predict_on_batch(image)\n",
    "    image = image.reshape(512, 512, 3)\n",
    "    im_preds = tf.reshape(im_preds, [512, 512, 1]).numpy()\n",
    "    #ImCompareGray(image, im_preds)\n",
    "    return im_preds"
   ]
  },
  {
   "cell_type": "code",
   "execution_count": 11,
   "metadata": {},
   "outputs": [],
   "source": [
    "def Coords(Pred, small):\n",
    "\t#cv2, Predicitons.pickle[2]=small\n",
    "\tPred = (255 - cv2.inRange(np.array(Pred * 255, dtype = np.uint8), 0, 160)).astype(np.float32)\n",
    "\tsmall = np.array(small * 255, dtype = np.uint8).astype(np.float32)\n",
    "\tresult = cv2.matchTemplate(Pred, small, cv2.TM_SQDIFF_NORMED)\n",
    "\tmn,_,mnLoc,_ = cv2.minMaxLoc(result)\n",
    "\tMPx,MPy = mnLoc\n",
    "\t#x and y may flipped\n",
    "\treturn (MPx+2-256, MPy+2-256)\n",
    "\t#return (MPx, MPy)"
   ]
  },
  {
   "cell_type": "code",
   "execution_count": 12,
   "metadata": {},
   "outputs": [],
   "source": [
    "def MouseControlV3(distx, disty, strength=1, Exceptions=[], MaxIterations=6):\n",
    "    #32 directions, 512 distances, 1 Iteration = 0.015\n",
    "    x = distx*strength\n",
    "    y = disty*strength\n",
    "    print(x,y)\n",
    "    if x not in Exceptions or y not in Exceptions:\n",
    "        if min(x,y)<=1:\n",
    "            windll.user32.mouse_event(0x0001, int(x), int(y), 0, 0)\n",
    "        else:\n",
    "            if min(x,y)>MaxIterations:\n",
    "                Iterations = 6\n",
    "            else:\n",
    "                Iterations=ceil(min(x,y))\n",
    "            x1 = floor(x/(Iterations-1))\n",
    "            y1 = floor(y/(Iterations-1))\n",
    "            for i in range(Iterations-1):\n",
    "                windll.user32.mouse_event(0x0001, x1, y1, 0, 0)\n",
    "                time.sleep(0.005)\n",
    "            windll.user32.mouse_event(0x0001, int(x)-(x1*Iterations-1), int(y)-(y1*Iterations-1), 0, 0)"
   ]
  },
  {
   "cell_type": "code",
   "execution_count": 13,
   "metadata": {},
   "outputs": [
    {
     "data": {
      "text/plain": [
       "'\\ndef Coords2(Pred, small):\\n\\tpred = Pred\\n\\t#cv2, Predicitons.pickle[2]=small\\n\\tresult = cv2.matchTemplate(pred, small, cv2.TM_SQDIFF_NORMED)\\n\\tmn,_,mnLoc,_ = cv2.minMaxLoc(result)\\n\\tMPx,MPy = mnLoc\\n\\ttrows,tcols = small.shape[:2]\\n\\tcv2.rectangle(pred, (MPx,MPy),(MPx+tcols,MPy+trows),(0,0,0),2)\\n\\t#x and y may flipped\\n\\treturn pred\\n    '"
      ]
     },
     "execution_count": 13,
     "metadata": {},
     "output_type": "execute_result"
    }
   ],
   "source": [
    "\"\"\"\n",
    "def Coords2(Pred, small):\n",
    "\tpred = Pred\n",
    "\t#cv2, Predicitons.pickle[2]=small\n",
    "\tresult = cv2.matchTemplate(pred, small, cv2.TM_SQDIFF_NORMED)\n",
    "\tmn,_,mnLoc,_ = cv2.minMaxLoc(result)\n",
    "\tMPx,MPy = mnLoc\n",
    "\ttrows,tcols = small.shape[:2]\n",
    "\tcv2.rectangle(pred, (MPx,MPy),(MPx+tcols,MPy+trows),(0,0,0),2)\n",
    "\t#x and y may flipped\n",
    "\treturn pred\n",
    "    \"\"\""
   ]
  },
  {
   "cell_type": "code",
   "execution_count": 14,
   "metadata": {},
   "outputs": [],
   "source": [
    "class myThread(Thread):\n",
    "\tdef __init__(self):\n",
    "\t\tThread.__init__(self)\n",
    "\t\tNone\n",
    "\tdef run(self):\n",
    "\t\tprint(\"Photographer\")\n",
    "\t\t# if Mouse is clicked provisional to final\n",
    "\t\tglobal StopKey, MouseDown\n",
    "\t\twhile StopKey:\n",
    "\t\t\tMouseState = win32api.GetKeyState(0x01)\n",
    "\t\t\tif MouseState == -127 or MouseState == -128:  # Button state changed\n",
    "\t\t\t\tMouseDown = True\n",
    "\t\t\t\tstate_left = MouseState\n",
    "\t\t\telse:\n",
    "\t\t\t\tMouseDown = False\n",
    "\t\t\ttime.sleep(0.001)"
   ]
  },
  {
   "cell_type": "code",
   "execution_count": 15,
   "metadata": {},
   "outputs": [],
   "source": [
    "class myThread1(Thread):\n",
    "\tdef __init__(self):\n",
    "\t\tThread.__init__(self)\n",
    "\t\tNone\n",
    "\tdef run(self):\n",
    "\t\t# saves the images in the global list\n",
    "\t\troot = tk.Tk()\n",
    "\t\tcanvas = tk.Canvas(root, width = 512, height = 512)\n",
    "\t\tcanvas.pack()\n",
    "\t\tdef recursive():\n",
    "\t\t\tglobal ImageTesten, PredImage\n",
    "\t\t\tImageTesten = ImageTk.PhotoImage(Image.fromarray((cv2.cvtColor(PredImage,cv2.COLOR_GRAY2RGB) * 255).astype(np.uint8)))\n",
    "\t\t\t#ImageTesten = tk.PhotoImage(file=DATADIR2+random.choice(os.listdir(DATADIR2)))\n",
    "\t\t\tcanvas.create_image(0,0, anchor=tk.NW, image=ImageTesten)\n",
    "\t\t\troot.after(100, recursive)\n",
    "\t\trecursive()\n",
    "\t\troot.mainloop()"
   ]
  },
  {
   "cell_type": "code",
   "execution_count": 16,
   "metadata": {},
   "outputs": [],
   "source": [
    "class MouseControlV4(Thread):\n",
    "\tdef __init__(self):\n",
    "\t\tThread.__init__(self)\n",
    "\t\tNone\n",
    "\tdef run(self):\n",
    "\t    #32 directions, 512 distances, 1 Iteration = 0.015\n",
    "\t\tglobal distx, disty, strength, Exceptions, MaxIterations\n",
    "\t\tLdistx, Ldisty = distx, disty\n",
    "\t\twhile StopKey:\n",
    "\t\t\tif Ldistx != distx or Ldisty != disty:\n",
    "\t\t\t\tt = time.time()\n",
    "\t\t\t\tLdistx = distx\n",
    "\t\t\t\tLdisty = disty\n",
    "\t\t\t\tLstrength = strength\n",
    "\t\t\t\tLExceptions = Exceptions\n",
    "\t\t\t\tLMaxIterations = MaxIterations\n",
    "\t\t\t\tx = distx*strength\n",
    "\t\t\t\ty = disty*strength\n",
    "\t\t\t\t#print(x,y)\n",
    "\t\t\t\tif x not in Exceptions or y not in Exceptions:\n",
    "\t\t\t\t\tif min(x,y)<=1:\n",
    "\t\t\t\t\t\twindll.user32.mouse_event(0x0001, int(x), int(y), 0, 0)\n",
    "\t\t\t\t\telse:\n",
    "\t\t\t\t\t\tif min(x,y)>MaxIterations:\n",
    "\t\t\t\t\t\t\tIterations = 6\n",
    "\t\t\t\t\t\telse:\n",
    "\t\t\t\t\t\t\tIterations=ceil(min(x,y))\n",
    "\t\t\t\t\t\tx1 = floor(x/(Iterations-1))\n",
    "\t\t\t\t\t\ty1 = floor(y/(Iterations-1))\n",
    "\t\t\t\t\t\tfor i in range(Iterations-1):\n",
    "\t\t\t\t\t\t\twindll.user32.mouse_event(0x0001, x1, y1, 0, 0)\n",
    "\t\t\t\t\t\t\t#time.sleep(0.005)\n",
    "\t\t\t\t\t\twindll.user32.mouse_event(0x0001, int(x)-(x1*Iterations-1), int(y)-(y1*Iterations-1), 0, 0)\n",
    "\t\t\t\tprint(time.time()-t)\n",
    "\t\t\ttime.sleep(0.05)"
   ]
  },
  {
   "cell_type": "code",
   "execution_count": 17,
   "metadata": {},
   "outputs": [],
   "source": [
    "#------------------------------------------------------------------------------------------------------------------------------"
   ]
  },
  {
   "cell_type": "code",
   "execution_count": 18,
   "metadata": {},
   "outputs": [
    {
     "data": {
      "image/png": "[encoded data removed]",
      "text/plain": [
       "<PIL.Image.Image image mode=RGB size=512x512 at 0x1BC4446CEF0>"
      ]
     },
     "execution_count": 18,
     "metadata": {},
     "output_type": "execute_result"
    }
   ],
   "source": [
    "PredImage=xyz(screenshot(WindowClassName1))\n",
    "#print(PredImage)\n",
    "Image.fromarray((cv2.cvtColor(PredImage,cv2.COLOR_GRAY2RGB) * 255).astype(np.uint8))"
   ]
  },
  {
   "cell_type": "code",
   "execution_count": 21,
   "metadata": {},
   "outputs": [],
   "source": [
    "#------------------------------------------------------------------------------------------------------------------------------"
   ]
  },
  {
   "cell_type": "code",
   "execution_count": 22,
   "metadata": {
    "scrolled": true
   },
   "outputs": [],
   "source": [
    "distx, disty = 0, 0\n",
    "strength = 1\n",
    "Exceptions = [-76.2, 33.3, -35.699999999999996, 77.0, -88.5, -127.0, -97.5, 32.5, -21.5, -68.0, -254]\n",
    "MaxIterations = 3"
   ]
  },
  {
   "cell_type": "code",
   "execution_count": 23,
   "metadata": {},
   "outputs": [
    {
     "name": "stdout",
     "output_type": "stream",
     "text": [
      "Photographer\n"
     ]
    }
   ],
   "source": [
    "inst0 = myThread()\n",
    "inst1 = MouseControlV4()\n",
    "inst0.start()\n",
    "inst1.start()"
   ]
  },
  {
   "cell_type": "code",
   "execution_count": 24,
   "metadata": {},
   "outputs": [
    {
     "name": "stdout",
     "output_type": "stream",
     "text": [
      "Photographer\n"
     ]
    }
   ],
   "source": [
    "inst0 = myThread()\n",
    "inst0.start()"
   ]
  },
  {
   "cell_type": "code",
   "execution_count": 27,
   "metadata": {},
   "outputs": [],
   "source": [
    "time.sleep(5)"
   ]
  },
  {
   "cell_type": "code",
   "execution_count": 28,
   "metadata": {},
   "outputs": [
    {
     "name": "stdout",
     "output_type": "stream",
     "text": [
      "(-63, -98)\n",
      "(39, 129)\n",
      "(-53, -192)\n",
      "(11, 30)\n",
      "(38, 149)\n",
      "(-25, -65)\n",
      "(23, 50)\n",
      "(-36, -129)\n",
      "(39, 118)\n",
      "(-9, 0)\n",
      "(-31, -112)\n",
      "(39, 137)\n",
      "(39, 137)\n",
      "(-70, -231)\n",
      "(5, 21)\n",
      "(142, 189)\n",
      "(-27, -55)\n",
      "(-160, -6)\n",
      "(-140, -196)\n",
      "(38, -165)\n",
      "(-254, -254)\n",
      "(-254, -254)\n",
      "(-254, -254)\n",
      "(-254, -254)\n",
      "(181, -233)\n",
      "(-254, -254)\n",
      "(-254, -254)\n",
      "(-254, -254)\n",
      "(-254, -254)\n",
      "(-254, -254)\n",
      "(-254, -254)\n",
      "(-254, -254)\n",
      "(-254, -254)\n",
      "(-254, -254)\n",
      "(-56, -111)\n",
      "(-1, 3)\n",
      "(34, 68)\n",
      "(157, 210)\n",
      "(151, 192)\n",
      "(13, -113)\n",
      "(-3, 18)\n",
      "(2, -10)\n",
      "(-1, -6)\n",
      "(4, 5)\n",
      "(-56, -62)\n",
      "(-8, -118)\n",
      "(142, 193)\n",
      "(15, 137)\n",
      "(-172, -249)\n",
      "(-53, -31)\n",
      "(-254, -254)\n",
      "(-254, -254)\n",
      "(119, 110)\n",
      "(72, 35)\n",
      "(-254, -254)\n",
      "(-254, -254)\n",
      "(-254, -254)\n",
      "(-254, -254)\n",
      "(-254, -254)\n",
      "(-254, -254)\n",
      "(-254, -254)\n",
      "(-254, -254)\n",
      "(-4, 21)\n",
      "(-27, 9)\n",
      "(30, -6)\n",
      "(-7, -13)\n",
      "(-125, -4)\n",
      "(-146, 7)\n",
      "(60, 45)\n",
      "(-254, -254)\n",
      "(122, 13)\n",
      "(-254, -254)\n",
      "(-254, -254)\n",
      "(-254, -254)\n",
      "(-254, -254)\n",
      "(-254, -254)\n",
      "(-254, -254)\n",
      "(72, 41)\n",
      "(-254, -254)\n",
      "(-254, -254)\n",
      "(-53, 1)\n",
      "(-254, -254)\n"
     ]
    },
    {
     "ename": "KeyboardInterrupt",
     "evalue": "",
     "output_type": "error",
     "traceback": [
      "\u001b[1;31m---------------------------------------------------------------------------\u001b[0m",
      "\u001b[1;31mKeyboardInterrupt\u001b[0m                         Traceback (most recent call last)",
      "\u001b[1;32m<ipython-input-28-7ef7de1e0122>\u001b[0m in \u001b[0;36m<module>\u001b[1;34m\u001b[0m\n\u001b[0;32m      2\u001b[0m     \u001b[1;32mif\u001b[0m \u001b[0mMouseDown\u001b[0m\u001b[1;33m:\u001b[0m\u001b[1;33m\u001b[0m\u001b[1;33m\u001b[0m\u001b[0m\n\u001b[0;32m      3\u001b[0m         \u001b[1;31m#t = time.time()\u001b[0m\u001b[1;33m\u001b[0m\u001b[1;33m\u001b[0m\u001b[1;33m\u001b[0m\u001b[0m\n\u001b[1;32m----> 4\u001b[1;33m         \u001b[0mPredImage\u001b[0m\u001b[1;33m=\u001b[0m\u001b[0mCoords\u001b[0m\u001b[1;33m(\u001b[0m\u001b[0mxyz\u001b[0m\u001b[1;33m(\u001b[0m\u001b[0mscreenshot\u001b[0m\u001b[1;33m(\u001b[0m\u001b[0mWindowClassName0\u001b[0m\u001b[1;33m)\u001b[0m\u001b[1;33m)\u001b[0m\u001b[1;33m,\u001b[0m \u001b[0mTemplate\u001b[0m\u001b[1;33m)\u001b[0m\u001b[1;33m\u001b[0m\u001b[1;33m\u001b[0m\u001b[0m\n\u001b[0m\u001b[0;32m      5\u001b[0m         \u001b[0mprint\u001b[0m\u001b[1;33m(\u001b[0m\u001b[0mPredImage\u001b[0m\u001b[1;33m)\u001b[0m\u001b[1;33m\u001b[0m\u001b[1;33m\u001b[0m\u001b[0m\n\u001b[0;32m      6\u001b[0m         \u001b[1;31m#distx, disty = PredImage[0], PredImage[1]\u001b[0m\u001b[1;33m\u001b[0m\u001b[1;33m\u001b[0m\u001b[1;33m\u001b[0m\u001b[0m\n",
      "\u001b[1;32m<ipython-input-7-0bcda8c6bbd7>\u001b[0m in \u001b[0;36mscreenshot\u001b[1;34m(window_title, lenx, leny)\u001b[0m\n\u001b[0;32m     12\u001b[0m                         \u001b[0my\u001b[0m \u001b[1;33m+=\u001b[0m \u001b[0mint\u001b[0m\u001b[1;33m(\u001b[0m\u001b[1;33m(\u001b[0m\u001b[0my1\u001b[0m\u001b[1;33m-\u001b[0m\u001b[0mleny\u001b[0m\u001b[1;33m)\u001b[0m\u001b[1;33m/\u001b[0m\u001b[1;36m2\u001b[0m\u001b[1;33m)\u001b[0m\u001b[1;33m\u001b[0m\u001b[1;33m\u001b[0m\u001b[0m\n\u001b[0;32m     13\u001b[0m                         \u001b[0my1\u001b[0m \u001b[1;33m=\u001b[0m \u001b[0mleny\u001b[0m\u001b[1;33m\u001b[0m\u001b[1;33m\u001b[0m\u001b[0m\n\u001b[1;32m---> 14\u001b[1;33m                         \u001b[0mim\u001b[0m \u001b[1;33m=\u001b[0m \u001b[0mpyautogui\u001b[0m\u001b[1;33m.\u001b[0m\u001b[0mscreenshot\u001b[0m\u001b[1;33m(\u001b[0m\u001b[0mregion\u001b[0m\u001b[1;33m=\u001b[0m\u001b[1;33m(\u001b[0m\u001b[0mx\u001b[0m\u001b[1;33m,\u001b[0m \u001b[0my\u001b[0m\u001b[1;33m,\u001b[0m \u001b[0mx1\u001b[0m\u001b[1;33m,\u001b[0m \u001b[0my1\u001b[0m\u001b[1;33m)\u001b[0m\u001b[1;33m)\u001b[0m\u001b[1;33m\u001b[0m\u001b[1;33m\u001b[0m\u001b[0m\n\u001b[0m\u001b[0;32m     15\u001b[0m                         \u001b[0mgray\u001b[0m \u001b[1;33m=\u001b[0m \u001b[0mnp\u001b[0m\u001b[1;33m.\u001b[0m\u001b[0marray\u001b[0m\u001b[1;33m(\u001b[0m\u001b[0mim\u001b[0m\u001b[1;33m)\u001b[0m\u001b[1;33m\u001b[0m\u001b[1;33m\u001b[0m\u001b[0m\n\u001b[0;32m     16\u001b[0m                         \u001b[0mimage\u001b[0m \u001b[1;33m=\u001b[0m \u001b[0mnp\u001b[0m\u001b[1;33m.\u001b[0m\u001b[0marray\u001b[0m\u001b[1;33m(\u001b[0m\u001b[0mgray\u001b[0m\u001b[1;33m)\u001b[0m\u001b[1;33m.\u001b[0m\u001b[0mreshape\u001b[0m\u001b[1;33m(\u001b[0m\u001b[1;33m-\u001b[0m\u001b[1;36m1\u001b[0m\u001b[1;33m,\u001b[0m \u001b[0mlenx\u001b[0m\u001b[1;33m,\u001b[0m \u001b[0mleny\u001b[0m\u001b[1;33m,\u001b[0m \u001b[1;36m3\u001b[0m\u001b[1;33m)\u001b[0m\u001b[1;33m\u001b[0m\u001b[1;33m\u001b[0m\u001b[0m\n",
      "\u001b[1;32m~\\anaconda3\\envs\\tensorflow-gpu\\lib\\site-packages\\pyscreeze\\__init__.py\u001b[0m in \u001b[0;36mwrapper\u001b[1;34m(*args, **kwargs)\u001b[0m\n\u001b[0;32m    133\u001b[0m         \u001b[1;32mif\u001b[0m \u001b[0m_PILLOW_UNAVAILABLE\u001b[0m\u001b[1;33m:\u001b[0m\u001b[1;33m\u001b[0m\u001b[1;33m\u001b[0m\u001b[0m\n\u001b[0;32m    134\u001b[0m             \u001b[1;32mraise\u001b[0m \u001b[0mPyScreezeException\u001b[0m\u001b[1;33m(\u001b[0m\u001b[1;34m'The Pillow package is required to use this function.'\u001b[0m\u001b[1;33m)\u001b[0m\u001b[1;33m\u001b[0m\u001b[1;33m\u001b[0m\u001b[0m\n\u001b[1;32m--> 135\u001b[1;33m         \u001b[1;32mreturn\u001b[0m \u001b[0mwrappedFunction\u001b[0m\u001b[1;33m(\u001b[0m\u001b[1;33m*\u001b[0m\u001b[0margs\u001b[0m\u001b[1;33m,\u001b[0m \u001b[1;33m**\u001b[0m\u001b[0mkwargs\u001b[0m\u001b[1;33m)\u001b[0m\u001b[1;33m\u001b[0m\u001b[1;33m\u001b[0m\u001b[0m\n\u001b[0m\u001b[0;32m    136\u001b[0m     \u001b[1;32mreturn\u001b[0m \u001b[0mwrapper\u001b[0m\u001b[1;33m\u001b[0m\u001b[1;33m\u001b[0m\u001b[0m\n\u001b[0;32m    137\u001b[0m \u001b[1;33m\u001b[0m\u001b[0m\n",
      "\u001b[1;32m~\\anaconda3\\envs\\tensorflow-gpu\\lib\\site-packages\\pyscreeze\\__init__.py\u001b[0m in \u001b[0;36m_screenshot_win32\u001b[1;34m(imageFilename, region)\u001b[0m\n\u001b[0;32m    425\u001b[0m     \u001b[1;31m# TODO - Use the winapi to get a screenshot, and compare performance with ImageGrab.grab()\u001b[0m\u001b[1;33m\u001b[0m\u001b[1;33m\u001b[0m\u001b[1;33m\u001b[0m\u001b[0m\n\u001b[0;32m    426\u001b[0m     \u001b[1;31m# https://stackoverflow.com/a/3586280/1893164\u001b[0m\u001b[1;33m\u001b[0m\u001b[1;33m\u001b[0m\u001b[1;33m\u001b[0m\u001b[0m\n\u001b[1;32m--> 427\u001b[1;33m     \u001b[0mim\u001b[0m \u001b[1;33m=\u001b[0m \u001b[0mImageGrab\u001b[0m\u001b[1;33m.\u001b[0m\u001b[0mgrab\u001b[0m\u001b[1;33m(\u001b[0m\u001b[1;33m)\u001b[0m\u001b[1;33m\u001b[0m\u001b[1;33m\u001b[0m\u001b[0m\n\u001b[0m\u001b[0;32m    428\u001b[0m     \u001b[1;32mif\u001b[0m \u001b[0mregion\u001b[0m \u001b[1;32mis\u001b[0m \u001b[1;32mnot\u001b[0m \u001b[1;32mNone\u001b[0m\u001b[1;33m:\u001b[0m\u001b[1;33m\u001b[0m\u001b[1;33m\u001b[0m\u001b[0m\n\u001b[0;32m    429\u001b[0m         \u001b[1;32massert\u001b[0m \u001b[0mlen\u001b[0m\u001b[1;33m(\u001b[0m\u001b[0mregion\u001b[0m\u001b[1;33m)\u001b[0m \u001b[1;33m==\u001b[0m \u001b[1;36m4\u001b[0m\u001b[1;33m,\u001b[0m \u001b[1;34m'region argument must be a tuple of four ints'\u001b[0m\u001b[1;33m\u001b[0m\u001b[1;33m\u001b[0m\u001b[0m\n",
      "\u001b[1;32m~\\anaconda3\\envs\\tensorflow-gpu\\lib\\site-packages\\PIL\\ImageGrab.py\u001b[0m in \u001b[0;36mgrab\u001b[1;34m(bbox, include_layered_windows, all_screens, xdisplay)\u001b[0m\n\u001b[0;32m     42\u001b[0m         \u001b[1;32melif\u001b[0m \u001b[0msys\u001b[0m\u001b[1;33m.\u001b[0m\u001b[0mplatform\u001b[0m \u001b[1;33m==\u001b[0m \u001b[1;34m\"win32\"\u001b[0m\u001b[1;33m:\u001b[0m\u001b[1;33m\u001b[0m\u001b[1;33m\u001b[0m\u001b[0m\n\u001b[0;32m     43\u001b[0m             offset, size, data = Image.core.grabscreen_win32(\n\u001b[1;32m---> 44\u001b[1;33m                 \u001b[0minclude_layered_windows\u001b[0m\u001b[1;33m,\u001b[0m \u001b[0mall_screens\u001b[0m\u001b[1;33m\u001b[0m\u001b[1;33m\u001b[0m\u001b[0m\n\u001b[0m\u001b[0;32m     45\u001b[0m             )\n\u001b[0;32m     46\u001b[0m             im = Image.frombytes(\n",
      "\u001b[1;31mKeyboardInterrupt\u001b[0m: "
     ]
    }
   ],
   "source": [
    "while True:\n",
    "    if MouseDown:\n",
    "        #t = time.time()\n",
    "        PredImage=Coords(xyz(screenshot(WindowClassName0)), Template)\n",
    "        print(PredImage)\n",
    "        #distx, disty = PredImage[0], PredImage[1]\n",
    "        windll.user32.mouse_event(0x0001, int(PredImage[0]), int(PredImage[1]), 0, 0)\n",
    "        #print(\"-----------------------------\", time.time()-t)"
   ]
  },
  {
   "cell_type": "code",
   "execution_count": null,
   "metadata": {},
   "outputs": [],
   "source": []
  },
  {
   "cell_type": "code",
   "execution_count": null,
   "metadata": {},
   "outputs": [],
   "source": []
  }
 ],
 "metadata": {
  "kernelspec": {
   "display_name": "Python 3",
   "language": "python",
   "name": "python3"
  },
  "language_info": {
   "codemirror_mode": {
    "name": "ipython",
    "version": 3
   },
   "file_extension": ".py",
   "mimetype": "text/x-python",
   "name": "python",
   "nbconvert_exporter": "python",
   "pygments_lexer": "ipython3",
   "version": "3.6.12"
  }
 },
 "nbformat": 4,
 "nbformat_minor": 4
}
