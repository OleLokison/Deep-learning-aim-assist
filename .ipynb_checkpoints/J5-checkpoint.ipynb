{
 "cells": [
  {
   "cell_type": "code",
   "execution_count": 1,
   "metadata": {},
   "outputs": [],
   "source": [
    "import os\n",
    "import pickle\n",
    "from win32gui import FindWindow, SetForegroundWindow, GetClientRect, ClientToScreen\n",
    "import pyautogui\n",
    "import cv2\n",
    "import numpy as np\n",
    "import tkinter as tk\n",
    "from PIL import Image, ImageTk\n",
    "from matplotlib import pyplot as plt\n",
    "from ctypes import windll\n",
    "from math import floor, ceil\n",
    "import win32api\n",
    "import time\n",
    "from threading import Thread\n",
    "import tensorflow as tf"
   ]
  },
  {
   "cell_type": "code",
   "execution_count": 2,
   "metadata": {},
   "outputs": [],
   "source": [
    "def Coords(Pred, small):\n",
    "\t#cv2, Predicitons.pickle[2]=small\n",
    "\tPred = (255 - cv2.inRange(np.array(Pred * 255, dtype = np.uint8), 0, 160)).astype(np.float32)\n",
    "\tsmall = np.array(small * 255, dtype = np.uint8).astype(np.float32)\n",
    "\tresult = cv2.matchTemplate(Pred, small, cv2.TM_SQDIFF_NORMED)\n",
    "\tmn,_,mnLoc,_ = cv2.minMaxLoc(result)\n",
    "\tMPx,MPy = mnLoc\n",
    "\t#x and y may flipped\n",
    "\treturn (MPx+2-256, MPy+2-256)\n",
    "\t#return (MPx, MPy)"
   ]
  },
  {
   "cell_type": "code",
   "execution_count": 3,
   "metadata": {},
   "outputs": [],
   "source": [
    "def ImCompareGray(Im1, Im2, FigSize=(10,10)):\n",
    "    f = plt.figure(figsize=FigSize)\n",
    "    f.add_subplot(1,2, 1)\n",
    "    plt.imshow(Im1, \"gray\")\n",
    "    f.add_subplot(1,2, 2)\n",
    "    plt.imshow(Im2)\n",
    "    plt.show(block=True)"
   ]
  },
  {
   "cell_type": "code",
   "execution_count": 4,
   "metadata": {},
   "outputs": [],
   "source": [
    "checkpoint_path = \"C:/Users/8holz/Dokumente/GitHub/K14/Training_Protocol/Model-Color-UNET-Terrosristhunt/weights/saved_model.pb\"\n",
    "DATADIR5 = r\"D:\\K14\\Dataset\\Predicitions.pickle\"\n",
    "checkpoint_dir = os.path.dirname(checkpoint_path)\n",
    "\n",
    "WindowClassName0 = 'Rainbow Six'\n",
    "WindowClassName1 = 'J5 - Jupyter Notebook - Google Chrome'\n",
    "WindowClassName2 = 'tk'\n",
    "WindowClassName3 = 'Fotos'"
   ]
  },
  {
   "cell_type": "code",
   "execution_count": 5,
   "metadata": {},
   "outputs": [],
   "source": [
    "def load_K14():\n",
    "    #model = create_model(IMG_HEIGHT, IMG_WIDTH, IMG_CHANNELS)\n",
    "    #model.summary()\n",
    "    model = tf.keras.models.load_model(checkpoint_dir)\n",
    "    #model.summary()\n",
    "\n",
    "    configproto = tf.compat.v1.ConfigProto() \n",
    "    configproto.gpu_options.allow_growth = True\n",
    "    sess = tf.compat.v1.Session(config=configproto) \n",
    "    tf.compat.v1.keras.backend.set_session(sess)\n",
    "    return model"
   ]
  },
  {
   "cell_type": "code",
   "execution_count": 6,
   "metadata": {},
   "outputs": [],
   "source": [
    "model = load_K14()"
   ]
  },
  {
   "cell_type": "code",
   "execution_count": 7,
   "metadata": {},
   "outputs": [],
   "source": [
    "def xyz(image):\n",
    "    a = time.time()\n",
    "    im_preds = model.predict_on_batch(image)\n",
    "    #print(time.time()-a)\n",
    "    image = image.reshape(512, 512, 3)\n",
    "    im_preds = tf.reshape(im_preds, [512, 512, 1]).numpy()\n",
    "    #ImCompareGray(image, im_preds)\n",
    "    return im_preds"
   ]
  },
  {
   "cell_type": "code",
   "execution_count": 8,
   "metadata": {},
   "outputs": [],
   "source": [
    "def screenshot(window_title=None, lenx=512, leny=512):\n",
    "\tim = pyautogui.screenshot(region=(1024, 464, 512, 512))\n",
    "\tgray = np.array(im)\n",
    "\timage = np.array(gray).reshape(-1, lenx, leny, 3)\n",
    "\treturn image"
   ]
  },
  {
   "cell_type": "code",
   "execution_count": 9,
   "metadata": {},
   "outputs": [
    {
     "data": {
      "text/plain": [
       "array([[[2.30550583e-08],\n",
       "        [1.13453822e-07],\n",
       "        [4.09840695e-08],\n",
       "        ...,\n",
       "        [4.62257999e-14],\n",
       "        [1.29950440e-13],\n",
       "        [5.70571504e-34]],\n",
       "\n",
       "       [[3.31344885e-09],\n",
       "        [2.18658529e-11],\n",
       "        [2.07851028e-11],\n",
       "        ...,\n",
       "        [2.93617659e-19],\n",
       "        [1.30623981e-19],\n",
       "        [1.00518181e-16]],\n",
       "\n",
       "       [[2.59693794e-10],\n",
       "        [4.39646236e-12],\n",
       "        [8.15966600e-11],\n",
       "        ...,\n",
       "        [6.31102360e-20],\n",
       "        [1.74174824e-23],\n",
       "        [2.24404132e-20]],\n",
       "\n",
       "       ...,\n",
       "\n",
       "       [[1.71360645e-24],\n",
       "        [6.20257602e-26],\n",
       "        [2.07819923e-24],\n",
       "        ...,\n",
       "        [1.19927485e-04],\n",
       "        [7.13994741e-05],\n",
       "        [4.03395068e-04]],\n",
       "\n",
       "       [[1.95751060e-21],\n",
       "        [6.02812242e-24],\n",
       "        [8.58305908e-25],\n",
       "        ...,\n",
       "        [3.17500002e-04],\n",
       "        [3.66963854e-04],\n",
       "        [1.98811479e-03]],\n",
       "\n",
       "       [[4.05659014e-19],\n",
       "        [1.96536490e-23],\n",
       "        [3.37313641e-23],\n",
       "        ...,\n",
       "        [2.46489281e-03],\n",
       "        [3.24767479e-03],\n",
       "        [1.18723372e-02]]], dtype=float32)"
      ]
     },
     "execution_count": 9,
     "metadata": {},
     "output_type": "execute_result"
    }
   ],
   "source": [
    "xyz(screenshot())"
   ]
  },
  {
   "cell_type": "code",
   "execution_count": 10,
   "metadata": {},
   "outputs": [],
   "source": [
    "class myThread(Thread):\n",
    "\tdef __init__(self):\n",
    "\t\tThread.__init__(self)\n",
    "\t\tNone\n",
    "\tdef run(self):\n",
    "\t\t# saves the images in the global list\n",
    "\t\troot = tk.Tk()\n",
    "\t\tcanvas0 = tk.Canvas(root, width = 512, height = 512)\n",
    "\t\tcanvas0.pack()\n",
    "\t\tcanvas1 = tk.Canvas(root, width = 512, height = 512)\n",
    "\t\tcanvas1.pack()\n",
    "\t\tdef recursive():\n",
    "\t\t\tglobal ImageTesten0, ImageTesten1, PredImage0, PredImage1\n",
    "\t\t\tImageTesten0 = ImageTk.PhotoImage(Image.fromarray((cv2.cvtColor(PredImage0,cv2.COLOR_GRAY2RGB) * 255).astype(np.uint8)))\n",
    "\t\t\tImageTesten1 = ImageTk.PhotoImage(Image.fromarray(cv2.cvtColor(PredImage1, cv2.COLOR_BGR2RGB)))\n",
    "\t\t\t#ImageTesten = tk.PhotoImage(file=DATADIR2+random.choice(os.listdir(DATADIR2)))\n",
    "\t\t\tcanvas0.create_image(0,0, anchor=tk.NW, image=ImageTesten0)\n",
    "\t\t\tcanvas1.create_image(0,0, anchor=tk.NW, image=ImageTesten1)\n",
    "\t\t\troot.after(100, recursive)\n",
    "\t\trecursive()\n",
    "\t\troot.mainloop()"
   ]
  },
  {
   "cell_type": "code",
   "execution_count": 11,
   "metadata": {},
   "outputs": [],
   "source": [
    "Template = pickle.load(open(r\"D:\\K14\\Dataset\\Predicitions.pickle\", \"rb\"))[10]\n",
    "ims = pickle.load(open(r\"D:\\K14\\Dataset\\TestImages.pickle\", \"rb\"))\n",
    "Cache = pickle.load(open(r\"C:\\Users\\8holz\\Dokumente\\GitHub\\K14\\Cache.pickle\", \"rb\"))\n",
    "Im0 = ims[1][8]"
   ]
  },
  {
   "cell_type": "code",
   "execution_count": 12,
   "metadata": {},
   "outputs": [],
   "source": [
    "PredImage0 = None\n",
    "ImageTesten0 = None\n",
    "PredImage1 = None\n",
    "ImageTesten1 = None"
   ]
  },
  {
   "cell_type": "code",
   "execution_count": 13,
   "metadata": {},
   "outputs": [
    {
     "name": "stdout",
     "output_type": "stream",
     "text": [
      "(512, 512, 3)\n"
     ]
    }
   ],
   "source": [
    "#PredImage0 = cv2.rectangle(PredImage, (c[0]+256, c[1]+256), (c[0]+256+2, c[1]+256+2), (0,255,0), 2)\n",
    "#PredImage1 = cv2.rectangle(ims[0][8], (c[0]+256, c[1]+256), (c[0]+256+2, c[1]+256+2), (0,255,0), 2)\n",
    "PredImage0 = ims[1][8]\n",
    "PredImage1 = ims[0][1]\n",
    "print(PredImage1.shape)"
   ]
  },
  {
   "cell_type": "code",
   "execution_count": 14,
   "metadata": {},
   "outputs": [],
   "source": [
    "inst = myThread()\n",
    "inst.daemon = True"
   ]
  },
  {
   "cell_type": "code",
   "execution_count": 15,
   "metadata": {},
   "outputs": [],
   "source": [
    "inst.start()"
   ]
  },
  {
   "cell_type": "code",
   "execution_count": 16,
   "metadata": {},
   "outputs": [],
   "source": [
    "c = Coords(PredImage0, Template)"
   ]
  },
  {
   "cell_type": "code",
   "execution_count": 17,
   "metadata": {},
   "outputs": [],
   "source": [
    "PredImage0 = cv2.rectangle(PredImage0, (c[0]+256, c[1]+256), (c[0]+256+2, c[1]+256+2), (0,255,0), 2)\n",
    "PredImage1 = cv2.rectangle(ims[0][8], (c[0]+256, c[1]+256), (c[0]+256+2, c[1]+256+2), (0,255,0), 2)"
   ]
  },
  {
   "cell_type": "code",
   "execution_count": null,
   "metadata": {},
   "outputs": [],
   "source": []
  },
  {
   "cell_type": "code",
   "execution_count": null,
   "metadata": {},
   "outputs": [],
   "source": []
  },
  {
   "cell_type": "code",
   "execution_count": 18,
   "metadata": {},
   "outputs": [],
   "source": [
    "time.sleep(5)"
   ]
  },
  {
   "cell_type": "code",
   "execution_count": null,
   "metadata": {
    "scrolled": true
   },
   "outputs": [
    {
     "name": "stdout",
     "output_type": "stream",
     "text": [
      "(-254, -254)\n",
      "(-254, -254)\n",
      "(-254, -254)\n",
      "(242, -156)\n",
      "(-254, -254)\n",
      "(-254, -254)\n",
      "(-254, -254)\n",
      "(126, -24)\n",
      "(-254, -254)\n",
      "(-254, -254)\n",
      "(-254, -254)\n",
      "(-254, -254)\n",
      "(-254, -254)\n",
      "(-254, -254)\n",
      "(220, -70)\n",
      "(6, 5)\n",
      "(43, -36)\n",
      "(-254, -254)\n",
      "(-58, -41)\n",
      "(-184, -170)\n",
      "(55, -4)\n",
      "(142, -68)\n",
      "(-254, -254)\n",
      "(-254, -254)\n",
      "(-254, -254)\n",
      "(-254, -254)\n",
      "(-254, -254)\n",
      "(-254, -254)\n",
      "(-254, -254)\n",
      "(127, -70)\n",
      "(112, -78)\n",
      "(134, -65)\n",
      "(-254, -254)\n",
      "(-254, -254)\n",
      "(-72, 73)\n",
      "(188, 197)\n",
      "(-134, -6)\n",
      "(-133, -3)\n",
      "(-235, 96)\n",
      "(-134, -4)\n",
      "(-241, -32)\n",
      "(10, -217)\n",
      "(11, -218)\n",
      "(11, -218)\n",
      "(-254, -254)\n",
      "(-254, -254)\n",
      "(-254, -254)\n",
      "(-254, -254)\n",
      "(11, -218)\n",
      "(11, -218)\n",
      "(124, -59)\n",
      "(124, -59)\n",
      "(127, -58)\n",
      "(124, -59)\n",
      "(144, -208)\n",
      "(144, -209)\n",
      "(144, -209)\n",
      "(143, -209)\n",
      "(143, -209)\n",
      "(135, -203)\n",
      "(-207, -86)\n",
      "(166, 15)\n",
      "(166, 15)\n",
      "(165, 15)\n",
      "(165, 15)\n",
      "(170, 15)\n",
      "(-254, -254)\n",
      "(-254, -254)\n",
      "(-254, -254)\n",
      "(165, 15)\n",
      "(-254, -254)\n",
      "(-254, -254)\n",
      "(-254, -254)\n",
      "(-254, -254)\n",
      "(-254, -254)\n",
      "(168, 14)\n",
      "(-9, 55)\n",
      "(-5, -12)\n",
      "(166, 15)\n",
      "(-254, -254)\n",
      "(-254, -254)\n",
      "(168, 14)\n",
      "(-117, -10)\n",
      "(166, 16)\n",
      "(-254, -254)\n",
      "(148, 14)\n",
      "(169, 15)\n",
      "(-129, 0)\n",
      "(106, 12)\n",
      "(134, 4)\n",
      "(-254, -254)\n",
      "(142, 8)\n",
      "(144, 8)\n",
      "(-131, -6)\n",
      "(-131, -4)\n",
      "(-131, -4)\n",
      "(-131, -4)\n",
      "(-116, -4)\n",
      "(-125, -4)\n",
      "(-131, -4)\n",
      "(-128, -5)\n",
      "(-126, -6)\n",
      "(-129, -6)\n",
      "(-130, -4)\n",
      "(-131, -4)\n",
      "(-131, -4)\n",
      "(-132, -3)\n",
      "(-130, -6)\n",
      "(-131, -3)\n",
      "(-130, -6)\n",
      "(-131, -5)\n",
      "(-130, -6)\n",
      "(-132, 0)\n",
      "(-131, -2)\n",
      "(-132, -2)\n",
      "(-130, -4)\n",
      "(-254, -254)\n",
      "(-254, -254)\n",
      "(-254, -254)\n",
      "(-254, -254)\n",
      "(-254, -254)\n",
      "(-254, -254)\n",
      "(-254, -254)\n",
      "(-254, -254)\n",
      "(-254, -254)\n"
     ]
    }
   ],
   "source": [
    "while True:\n",
    "    ScrSh = screenshot(WindowClassName3)\n",
    "    Mask = xyz(ScrSh)\n",
    "    c = Coords(Mask, Template)\n",
    "    print(c)\n",
    "    PredImage0 = cv2.rectangle(Mask, (c[0]+256, c[1]+256), (c[0]+256+2, c[1]+256+2), (0,255,0), 2)\n",
    "    PredImage1 = cv2.rectangle(ScrSh.reshape(512,512,3), (c[0]+256, c[1]+256), (c[0]+256+2, c[1]+256+2), (0,255,0), 2)\n",
    "    time.sleep(5)"
   ]
  },
  {
   "cell_type": "code",
   "execution_count": null,
   "metadata": {},
   "outputs": [],
   "source": []
  }
 ],
 "metadata": {
  "kernelspec": {
   "display_name": "Python 3",
   "language": "python",
   "name": "python3"
  },
  "language_info": {
   "codemirror_mode": {
    "name": "ipython",
    "version": 3
   },
   "file_extension": ".py",
   "mimetype": "text/x-python",
   "name": "python",
   "nbconvert_exporter": "python",
   "pygments_lexer": "ipython3",
   "version": "3.6.12"
  }
 },
 "nbformat": 4,
 "nbformat_minor": 4
}
