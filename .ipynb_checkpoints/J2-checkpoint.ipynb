{
 "cells": [
  {
   "cell_type": "code",
   "execution_count": 1,
   "metadata": {},
   "outputs": [
    {
     "name": "stdout",
     "output_type": "stream",
     "text": [
      "2.1.0\n"
     ]
    }
   ],
   "source": [
    "import os\n",
    "\n",
    "import tensorflow as tf\n",
    "from tensorflow import keras\n",
    "\n",
    "print(tf.version.VERSION)"
   ]
  },
  {
   "cell_type": "code",
   "execution_count": 2,
   "metadata": {},
   "outputs": [],
   "source": [
    "(train_images, train_labels), (test_images, test_labels) = tf.keras.datasets.mnist.load_data()\n",
    "\n",
    "train_labels = train_labels[:1000]\n",
    "test_labels = test_labels[:1000]\n",
    "\n",
    "train_images = train_images[:1000].reshape(-1, 28 * 28) / 255.0\n",
    "test_images = test_images[:1000].reshape(-1, 28 * 28) / 255.0"
   ]
  },
  {
   "cell_type": "code",
   "execution_count": 3,
   "metadata": {},
   "outputs": [
    {
     "name": "stdout",
     "output_type": "stream",
     "text": [
      "Model: \"sequential\"\n",
      "_________________________________________________________________\n",
      "Layer (type)                 Output Shape              Param #   \n",
      "=================================================================\n",
      "dense (Dense)                (None, 512)               401920    \n",
      "_________________________________________________________________\n",
      "dropout (Dropout)            (None, 512)               0         \n",
      "_________________________________________________________________\n",
      "dense_1 (Dense)              (None, 10)                5130      \n",
      "=================================================================\n",
      "Total params: 407,050\n",
      "Trainable params: 407,050\n",
      "Non-trainable params: 0\n",
      "_________________________________________________________________\n"
     ]
    }
   ],
   "source": [
    "# Define a simple sequential model\n",
    "def create_model():\n",
    "  model = tf.keras.models.Sequential([\n",
    "    keras.layers.Dense(512, activation='relu', input_shape=(784,)),\n",
    "    keras.layers.Dropout(0.2),\n",
    "    keras.layers.Dense(10)\n",
    "  ])\n",
    "\n",
    "  model.compile(optimizer='adam',\n",
    "                loss=tf.losses.SparseCategoricalCrossentropy(from_logits=True),\n",
    "                metrics=[tf.metrics.SparseCategoricalAccuracy()])\n",
    "\n",
    "  return model\n",
    "\n",
    "# Create a basic model instance\n",
    "model = create_model()\n",
    "\n",
    "# Display the model's architecture\n",
    "model.summary()"
   ]
  },
  {
   "cell_type": "code",
   "execution_count": 4,
   "metadata": {
    "collapsed": true
   },
   "outputs": [
    {
     "name": "stdout",
     "output_type": "stream",
     "text": [
      "Train on 1000 samples, validate on 1000 samples\n",
      "Epoch 1/10\n",
      "  32/1000 [..............................] - ETA: 27s - loss: 2.3514 - sparse_categorical_accuracy: 0.0625\n",
      "Epoch 00001: saving model to training_1/cp.ckpt\n",
      "1000/1000 [==============================] - 1s 1ms/sample - loss: 1.1344 - sparse_categorical_accuracy: 0.6650 - val_loss: 0.7287 - val_sparse_categorical_accuracy: 0.7810\n",
      "Epoch 2/10\n",
      "  32/1000 [..............................] - ETA: 0s - loss: 0.5182 - sparse_categorical_accuracy: 0.8750\n",
      "Epoch 00002: saving model to training_1/cp.ckpt\n",
      "1000/1000 [==============================] - 0s 141us/sample - loss: 0.4270 - sparse_categorical_accuracy: 0.8810 - val_loss: 0.5335 - val_sparse_categorical_accuracy: 0.8360\n",
      "Epoch 3/10\n",
      "  32/1000 [..............................] - ETA: 0s - loss: 0.3141 - sparse_categorical_accuracy: 0.9062\n",
      "Epoch 00003: saving model to training_1/cp.ckpt\n",
      "1000/1000 [==============================] - 0s 126us/sample - loss: 0.2782 - sparse_categorical_accuracy: 0.9240 - val_loss: 0.4995 - val_sparse_categorical_accuracy: 0.8420\n",
      "Epoch 4/10\n",
      "  32/1000 [..............................] - ETA: 0s - loss: 0.1916 - sparse_categorical_accuracy: 0.9688\n",
      "Epoch 00004: saving model to training_1/cp.ckpt\n",
      "1000/1000 [==============================] - 0s 128us/sample - loss: 0.2009 - sparse_categorical_accuracy: 0.9550 - val_loss: 0.4316 - val_sparse_categorical_accuracy: 0.8650\n",
      "Epoch 5/10\n",
      "  32/1000 [..............................] - ETA: 0s - loss: 0.0932 - sparse_categorical_accuracy: 1.0000\n",
      "Epoch 00005: saving model to training_1/cp.ckpt\n",
      "1000/1000 [==============================] - 0s 128us/sample - loss: 0.1507 - sparse_categorical_accuracy: 0.9690 - val_loss: 0.4363 - val_sparse_categorical_accuracy: 0.8630\n",
      "Epoch 6/10\n",
      "  32/1000 [..............................] - ETA: 0s - loss: 0.1428 - sparse_categorical_accuracy: 0.9375\n",
      "Epoch 00006: saving model to training_1/cp.ckpt\n",
      "1000/1000 [==============================] - 0s 137us/sample - loss: 0.1070 - sparse_categorical_accuracy: 0.9830 - val_loss: 0.4433 - val_sparse_categorical_accuracy: 0.8570\n",
      "Epoch 7/10\n",
      "  32/1000 [..............................] - ETA: 0s - loss: 0.0875 - sparse_categorical_accuracy: 1.0000\n",
      "Epoch 00007: saving model to training_1/cp.ckpt\n",
      "1000/1000 [==============================] - 0s 144us/sample - loss: 0.0854 - sparse_categorical_accuracy: 0.9870 - val_loss: 0.4103 - val_sparse_categorical_accuracy: 0.8720\n",
      "Epoch 8/10\n",
      " 992/1000 [============================>.] - ETA: 0s - loss: 0.0621 - sparse_categorical_accuracy: 0.9960\n",
      "Epoch 00008: saving model to training_1/cp.ckpt\n",
      "1000/1000 [==============================] - 0s 148us/sample - loss: 0.0619 - sparse_categorical_accuracy: 0.9960 - val_loss: 0.4043 - val_sparse_categorical_accuracy: 0.8720\n",
      "Epoch 9/10\n",
      "  32/1000 [..............................] - ETA: 0s - loss: 0.0472 - sparse_categorical_accuracy: 1.0000\n",
      "Epoch 00009: saving model to training_1/cp.ckpt\n",
      "1000/1000 [==============================] - 0s 138us/sample - loss: 0.0452 - sparse_categorical_accuracy: 0.9970 - val_loss: 0.4096 - val_sparse_categorical_accuracy: 0.8770\n",
      "Epoch 10/10\n",
      "  32/1000 [..............................] - ETA: 0s - loss: 0.0358 - sparse_categorical_accuracy: 1.0000\n",
      "Epoch 00010: saving model to training_1/cp.ckpt\n",
      "1000/1000 [==============================] - 0s 129us/sample - loss: 0.0369 - sparse_categorical_accuracy: 0.9990 - val_loss: 0.4277 - val_sparse_categorical_accuracy: 0.8650\n"
     ]
    },
    {
     "data": {
      "text/plain": [
       "<tensorflow.python.keras.callbacks.History at 0x207c6194a90>"
      ]
     },
     "execution_count": 4,
     "metadata": {},
     "output_type": "execute_result"
    }
   ],
   "source": [
    "checkpoint_path = \"training_1/cp.ckpt\"\n",
    "checkpoint_dir = os.path.dirname(checkpoint_path)\n",
    "\n",
    "# Create a callback that saves the model's weights\n",
    "cp_callback = tf.keras.callbacks.ModelCheckpoint(filepath=checkpoint_path,\n",
    "                                                 save_weights_only=True,\n",
    "                                                 verbose=1)\n",
    "\n",
    "# Train the model with the new callback\n",
    "model.fit(train_images, \n",
    "          train_labels,  \n",
    "          epochs=10,\n",
    "          validation_data=(test_images, test_labels),\n",
    "          callbacks=[cp_callback])  # Pass callback to training\n",
    "\n",
    "# This may generate warnings related to saving the state of the optimizer.\n",
    "# These warnings (and similar warnings throughout this notebook)\n",
    "# are in place to discourage outdated usage, and can be ignored."
   ]
  },
  {
   "cell_type": "code",
   "execution_count": 5,
   "metadata": {},
   "outputs": [
    {
     "name": "stdout",
     "output_type": "stream",
     "text": [
      " Volume in Laufwerk C: hat keine Bezeichnung.\n",
      " Volumeseriennummer: 0654-BAD9\n",
      "\n",
      " Verzeichnis von C:\\Users\\8holz\\Dokumente\\GitHub\\K14\\training_1\n",
      "\n",
      "05.12.2020  22:16    <DIR>          .\n",
      "05.12.2020  22:16    <DIR>          ..\n",
      "05.12.2020  22:16                71 checkpoint\n",
      "05.12.2020  22:16             2'064 cp.ckpt.data-00000-of-00002\n",
      "05.12.2020  22:16         4'884'624 cp.ckpt.data-00001-of-00002\n",
      "05.12.2020  22:16             1'251 cp.ckpt.index\n",
      "05.12.2020  20:42    <DIR>          cp.ckpt_temp_060bdefa8f6f4bb5855e99f1340e8f8b\n",
      "05.12.2020  20:46    <DIR>          cp.ckpt_temp_4fbf557ff3e74ecbaca98afb11a0a2bf\n",
      "05.12.2020  20:45    <DIR>          cp.ckpt_temp_736d8ae343fc49ce9d7e2761829df858\n",
      "               4 Datei(en),      4'888'010 Bytes\n",
      "               5 Verzeichnis(se), 97'350'221'824 Bytes frei\n"
     ]
    }
   ],
   "source": [
    "ls {checkpoint_dir}"
   ]
  },
  {
   "cell_type": "code",
   "execution_count": 6,
   "metadata": {},
   "outputs": [
    {
     "name": "stdout",
     "output_type": "stream",
     "text": [
      "1000/1000 - 0s - loss: 2.3639 - sparse_categorical_accuracy: 0.0640\n",
      "Untrained model, accuracy:  6.40%\n"
     ]
    }
   ],
   "source": [
    "# Create a basic model instance\n",
    "model = create_model()\n",
    "\n",
    "# Evaluate the model\n",
    "loss, acc = model.evaluate(test_images, test_labels, verbose=2)\n",
    "print(\"Untrained model, accuracy: {:5.2f}%\".format(100 * acc))"
   ]
  },
  {
   "cell_type": "code",
   "execution_count": 7,
   "metadata": {},
   "outputs": [
    {
     "name": "stdout",
     "output_type": "stream",
     "text": [
      "1000/1000 - 0s - loss: 0.4277 - sparse_categorical_accuracy: 0.8650\n",
      "Restored model, accuracy: 86.50%\n"
     ]
    }
   ],
   "source": [
    "# Loads the weights\n",
    "model.load_weights(checkpoint_path)\n",
    "\n",
    "# Re-evaluate the model\n",
    "loss, acc = model.evaluate(test_images, test_labels, verbose=2)\n",
    "print(\"Restored model, accuracy: {:5.2f}%\".format(100 * acc))"
   ]
  },
  {
   "cell_type": "code",
   "execution_count": null,
   "metadata": {},
   "outputs": [],
   "source": []
  }
 ],
 "metadata": {
  "kernelspec": {
   "display_name": "tensorflow-gpu",
   "language": "python",
   "name": "tensorflow-gpu"
  },
  "language_info": {
   "codemirror_mode": {
    "name": "ipython",
    "version": 3
   },
   "file_extension": ".py",
   "mimetype": "text/x-python",
   "name": "python",
   "nbconvert_exporter": "python",
   "pygments_lexer": "ipython3",
   "version": "3.6.12"
  }
 },
 "nbformat": 4,
 "nbformat_minor": 4
}
