{
 "cells": [
  {
   "cell_type": "code",
   "execution_count": 14,
   "metadata": {},
   "outputs": [
    {
     "name": "stdout",
     "output_type": "stream",
     "text": [
      "2.1.0\n"
     ]
    }
   ],
   "source": [
    "import tensorflow as tf\n",
    "import os\n",
    "import random\n",
    "import numpy as np\n",
    "import matplotlib.pyplot as plt\n",
    "import pickle\n",
    "import time\n",
    "print(tf.version.VERSION)\n",
    "\n",
    "from win32gui import FindWindow, SetForegroundWindow, GetClientRect, ClientToScreen\n",
    "import pyautogui\n",
    "import cv2\n",
    "\n",
    "import tkinter as tk\n",
    "from PIL import Image, ImageTk\n",
    "\n",
    "from threading import Thread"
   ]
  },
  {
   "cell_type": "code",
   "execution_count": 15,
   "metadata": {},
   "outputs": [],
   "source": [
    "DATADIR2 = r\"D:\\K14\\Dataset\\TestImages.pickle\"\n",
    "\n",
    "checkpoint_path = \"C:/Users/8holz/Dokumente/GitHub/K14/Training_Protocol/Model-Color-UNET-Terrosristhunt/weights/saved_model.pb\"\n",
    "checkpoint_dir = os.path.dirname(checkpoint_path)\n",
    "\n",
    "WindowClassName0 = 'Rainbow Six'\n",
    "WindowClassName1 = 'J2 - Jupyter Notebook - Google Chrome'\n",
    "\n",
    "PredImage = None"
   ]
  },
  {
   "cell_type": "code",
   "execution_count": 16,
   "metadata": {},
   "outputs": [],
   "source": [
    "f = pickle.load(open(DATADIR2, \"rb\"))"
   ]
  },
  {
   "cell_type": "code",
   "execution_count": 30,
   "metadata": {},
   "outputs": [],
   "source": [
    "def ImCompareGray(Im1, Im2, FigSize=(10,10)):\n",
    "    f = plt.figure(figsize=FigSize)\n",
    "    f.add_subplot(1,2, 1)\n",
    "    plt.imshow(Im1, \"gray\")\n",
    "    f.add_subplot(1,2, 2)\n",
    "    plt.imshow(Im2)\n",
    "    plt.show(block=True)"
   ]
  },
  {
   "cell_type": "code",
   "execution_count": 31,
   "metadata": {},
   "outputs": [],
   "source": [
    "def load_K14():\n",
    "    #model = create_model(IMG_HEIGHT, IMG_WIDTH, IMG_CHANNELS)\n",
    "    #model.summary()\n",
    "    model = tf.keras.models.load_model(checkpoint_dir)\n",
    "    #model.summary()\n",
    "\n",
    "    configproto = tf.compat.v1.ConfigProto() \n",
    "    configproto.gpu_options.allow_growth = True\n",
    "    sess = tf.compat.v1.Session(config=configproto) \n",
    "    tf.compat.v1.keras.backend.set_session(sess)\n",
    "    return model"
   ]
  },
  {
   "cell_type": "code",
   "execution_count": 32,
   "metadata": {},
   "outputs": [],
   "source": [
    "model = load_K14(\n",
    ")"
   ]
  },
  {
   "cell_type": "code",
   "execution_count": 33,
   "metadata": {},
   "outputs": [],
   "source": [
    "def xyz(image):\n",
    "    a = time.time()\n",
    "    im_preds = model.predict_on_batch(image)\n",
    "    print(time.time()-a)\n",
    "    image = image.reshape(512, 512, 3)\n",
    "    im_preds = tf.reshape(im_preds, [512, 512, 1]).numpy()\n",
    "    #ImCompareGray(image, im_preds)\n",
    "    return im_preds"
   ]
  },
  {
   "cell_type": "code",
   "execution_count": 34,
   "metadata": {},
   "outputs": [
    {
     "name": "stdout",
     "output_type": "stream",
     "text": [
      "0.22268414497375488\n"
     ]
    }
   ],
   "source": [
    "pred = xyz(f[0])"
   ]
  },
  {
   "cell_type": "code",
   "execution_count": 36,
   "metadata": {},
   "outputs": [
    {
     "name": "stdout",
     "output_type": "stream",
     "text": [
      "0.007973909378051758\n",
      "0.0016317367553710938\n",
      "0.001993417739868164\n",
      "0.0\n",
      "0.0\n",
      "0.0\n",
      "0.0\n",
      "0.015648841857910156\n",
      "0.0\n",
      "0.015593767166137695\n",
      "0.0\n",
      "0.015621185302734375\n",
      "0.0\n",
      "0.015653371810913086\n",
      "0.0\n",
      "0.01561737060546875\n",
      "0.0\n",
      "0.0\n",
      "0.0\n",
      "0.002016782760620117\n",
      "0.0020258426666259766\n",
      "0.006936073303222656\n",
      "0.001964092254638672\n",
      "0.0019676685333251953\n",
      "0.0030219554901123047\n",
      "0.0020232200622558594\n",
      "0.0019741058349609375\n",
      "0.002964019775390625\n",
      "0.0019931793212890625\n",
      "0.0019941329956054688\n",
      "0.001995086669921875\n",
      "0.0019943714141845703\n",
      "0.0019674301147460938\n",
      "0.001996755599975586\n",
      "0.00199127197265625\n",
      "0.0019941329956054688\n"
     ]
    }
   ],
   "source": [
    "liste = [[],[]]\n",
    "for i in range(len(f)):\n",
    "    pred = xyz(f[i])\n",
    "    liste[1].append(pred)\n",
    "    liste[0].append(f[i].reshape(512,512,3))\n",
    "    "
   ]
  },
  {
   "cell_type": "code",
   "execution_count": 37,
   "metadata": {},
   "outputs": [
    {
     "name": "stdout",
     "output_type": "stream",
     "text": [
      "pickle says hello\n",
      "Le finish\n",
      "\n"
     ]
    }
   ],
   "source": [
    "print(\"pickle says hello\")\n",
    "pickle.dump(liste, open(DATADIR2, \"wb\"))\n",
    "print(\"Le finish\\n\")"
   ]
  },
  {
   "cell_type": "code",
   "execution_count": null,
   "metadata": {},
   "outputs": [],
   "source": []
  }
 ],
 "metadata": {
  "kernelspec": {
   "display_name": "tensorflow-gpu",
   "language": "python",
   "name": "tensorflow-gpu"
  },
  "language_info": {
   "codemirror_mode": {
    "name": "ipython",
    "version": 3
   },
   "file_extension": ".py",
   "mimetype": "text/x-python",
   "name": "python",
   "nbconvert_exporter": "python",
   "pygments_lexer": "ipython3",
   "version": "3.6.12"
  }
 },
 "nbformat": 4,
 "nbformat_minor": 4
}
