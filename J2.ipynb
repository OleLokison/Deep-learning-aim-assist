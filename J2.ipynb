{
 "cells": [
  {
   "cell_type": "code",
   "execution_count": 12,
   "metadata": {},
   "outputs": [
    {
     "name": "stdout",
     "output_type": "stream",
     "text": [
      "2.1.0\n"
     ]
    }
   ],
   "source": [
    "import os\n",
    "\n",
    "import tensorflow as tf\n",
    "from tensorflow import keras\n",
    "\n",
    "print(tf.version.VERSION)"
   ]
  },
  {
   "cell_type": "code",
   "execution_count": 2,
   "metadata": {},
   "outputs": [],
   "source": [
    "(train_images, train_labels), (test_images, test_labels) = tf.keras.datasets.mnist.load_data()\n",
    "\n",
    "train_labels = train_labels[:1000]\n",
    "test_labels = test_labels[:1000]\n",
    "\n",
    "train_images = train_images[:1000].reshape(-1, 28 * 28) / 255.0\n",
    "test_images = test_images[:1000].reshape(-1, 28 * 28) / 255.0"
   ]
  },
  {
   "cell_type": "code",
   "execution_count": 3,
   "metadata": {},
   "outputs": [
    {
     "name": "stdout",
     "output_type": "stream",
     "text": [
      "Model: \"sequential\"\n",
      "_________________________________________________________________\n",
      "Layer (type)                 Output Shape              Param #   \n",
      "=================================================================\n",
      "dense (Dense)                (None, 512)               401920    \n",
      "_________________________________________________________________\n",
      "dropout (Dropout)            (None, 512)               0         \n",
      "_________________________________________________________________\n",
      "dense_1 (Dense)              (None, 10)                5130      \n",
      "=================================================================\n",
      "Total params: 407,050\n",
      "Trainable params: 407,050\n",
      "Non-trainable params: 0\n",
      "_________________________________________________________________\n"
     ]
    }
   ],
   "source": [
    "# Define a simple sequential model\n",
    "def create_model():\n",
    "  model = tf.keras.models.Sequential([\n",
    "    keras.layers.Dense(512, activation='relu', input_shape=(784,)),\n",
    "    keras.layers.Dropout(0.2),\n",
    "    keras.layers.Dense(10)\n",
    "  ])\n",
    "\n",
    "  model.compile(optimizer='adam',\n",
    "                loss=tf.losses.SparseCategoricalCrossentropy(from_logits=True),\n",
    "                metrics=[tf.metrics.SparseCategoricalAccuracy()])\n",
    "\n",
    "  return model\n",
    "\n",
    "# Create a basic model instance\n",
    "model = create_model()\n",
    "\n",
    "# Display the model's architecture\n",
    "model.summary()"
   ]
  },
  {
   "cell_type": "code",
   "execution_count": 4,
   "metadata": {},
   "outputs": [
    {
     "name": "stdout",
     "output_type": "stream",
     "text": [
      "Train on 1000 samples, validate on 1000 samples\n",
      "Epoch 1/10\n",
      "  32/1000 [..............................] - ETA: 29s - loss: 2.3419 - sparse_categorical_accuracy: 0.0625\n",
      "Epoch 00001: saving model to training_1/cp.ckpt\n",
      "1000/1000 [==============================] - 1s 1ms/sample - loss: 1.1383 - sparse_categorical_accuracy: 0.6800 - val_loss: 0.7244 - val_sparse_categorical_accuracy: 0.7800\n",
      "Epoch 2/10\n",
      "  32/1000 [..............................] - ETA: 0s - loss: 0.4485 - sparse_categorical_accuracy: 0.8438\n",
      "Epoch 00002: saving model to training_1/cp.ckpt\n",
      "1000/1000 [==============================] - 0s 124us/sample - loss: 0.4155 - sparse_categorical_accuracy: 0.8920 - val_loss: 0.5216 - val_sparse_categorical_accuracy: 0.8420\n",
      "Epoch 3/10\n",
      "  32/1000 [..............................] - ETA: 0s - loss: 0.2093 - sparse_categorical_accuracy: 0.9375\n",
      "Epoch 00003: saving model to training_1/cp.ckpt\n",
      "1000/1000 [==============================] - 0s 135us/sample - loss: 0.2934 - sparse_categorical_accuracy: 0.9240 - val_loss: 0.4975 - val_sparse_categorical_accuracy: 0.8380\n",
      "Epoch 4/10\n",
      "  32/1000 [..............................] - ETA: 0s - loss: 0.3704 - sparse_categorical_accuracy: 0.9375\n",
      "Epoch 00004: saving model to training_1/cp.ckpt\n",
      "1000/1000 [==============================] - 0s 127us/sample - loss: 0.2161 - sparse_categorical_accuracy: 0.9470 - val_loss: 0.4384 - val_sparse_categorical_accuracy: 0.8660\n",
      "Epoch 5/10\n",
      "  32/1000 [..............................] - ETA: 0s - loss: 0.2272 - sparse_categorical_accuracy: 0.9062\n",
      "Epoch 00005: saving model to training_1/cp.ckpt\n",
      "1000/1000 [==============================] - 0s 165us/sample - loss: 0.1518 - sparse_categorical_accuracy: 0.9660 - val_loss: 0.4406 - val_sparse_categorical_accuracy: 0.8550\n",
      "Epoch 6/10\n",
      "  32/1000 [..............................] - ETA: 0s - loss: 0.0958 - sparse_categorical_accuracy: 0.9688\n",
      "Epoch 00006: saving model to training_1/cp.ckpt\n",
      "1000/1000 [==============================] - 0s 125us/sample - loss: 0.1189 - sparse_categorical_accuracy: 0.9780 - val_loss: 0.4245 - val_sparse_categorical_accuracy: 0.8640\n",
      "Epoch 7/10\n",
      "  32/1000 [..............................] - ETA: 0s - loss: 0.0899 - sparse_categorical_accuracy: 0.9688\n",
      "Epoch 00007: saving model to training_1/cp.ckpt\n",
      "1000/1000 [==============================] - 0s 138us/sample - loss: 0.1024 - sparse_categorical_accuracy: 0.9760 - val_loss: 0.4190 - val_sparse_categorical_accuracy: 0.8650\n",
      "Epoch 8/10\n",
      "  32/1000 [..............................] - ETA: 0s - loss: 0.0602 - sparse_categorical_accuracy: 1.0000\n",
      "Epoch 00008: saving model to training_1/cp.ckpt\n",
      "1000/1000 [==============================] - 0s 140us/sample - loss: 0.0675 - sparse_categorical_accuracy: 0.9930 - val_loss: 0.4070 - val_sparse_categorical_accuracy: 0.8660\n",
      "Epoch 9/10\n",
      "  32/1000 [..............................] - ETA: 0s - loss: 0.0570 - sparse_categorical_accuracy: 1.0000\n",
      "Epoch 00009: saving model to training_1/cp.ckpt\n",
      "1000/1000 [==============================] - 0s 125us/sample - loss: 0.0496 - sparse_categorical_accuracy: 0.9950 - val_loss: 0.4327 - val_sparse_categorical_accuracy: 0.8520\n",
      "Epoch 10/10\n",
      "  32/1000 [..............................] - ETA: 0s - loss: 0.0539 - sparse_categorical_accuracy: 1.0000\n",
      "Epoch 00010: saving model to training_1/cp.ckpt\n",
      "1000/1000 [==============================] - 0s 123us/sample - loss: 0.0373 - sparse_categorical_accuracy: 0.9980 - val_loss: 0.3973 - val_sparse_categorical_accuracy: 0.8700\n"
     ]
    },
    {
     "data": {
      "text/plain": [
       "<tensorflow.python.keras.callbacks.History at 0x23d437e3a90>"
      ]
     },
     "execution_count": 4,
     "metadata": {},
     "output_type": "execute_result"
    }
   ],
   "source": [
    "checkpoint_path = \"training_1/cp.ckpt\"\n",
    "checkpoint_dir = os.path.dirname(checkpoint_path)\n",
    "\n",
    "# Create a callback that saves the model's weights\n",
    "cp_callback = tf.keras.callbacks.ModelCheckpoint(filepath=checkpoint_path,\n",
    "                                                 save_weights_only=True,\n",
    "                                                 verbose=1)\n",
    "\n",
    "# Train the model with the new callback\n",
    "model.fit(train_images, \n",
    "          train_labels,  \n",
    "          epochs=10,\n",
    "          validation_data=(test_images, test_labels),\n",
    "          callbacks=[cp_callback])  # Pass callback to training\n",
    "\n",
    "# This may generate warnings related to saving the state of the optimizer.\n",
    "# These warnings (and similar warnings throughout this notebook)\n",
    "# are in place to discourage outdated usage, and can be ignored."
   ]
  },
  {
   "cell_type": "code",
   "execution_count": 5,
   "metadata": {},
   "outputs": [
    {
     "name": "stdout",
     "output_type": "stream",
     "text": [
      " Volume in Laufwerk C: hat keine Bezeichnung.\n",
      " Volumeseriennummer: 0654-BAD9\n",
      "\n",
      " Verzeichnis von C:\\Users\\8holz\\Dokumente\\GitHub\\K14\\training_1\n",
      "\n",
      "06.12.2020  10:18    <DIR>          .\n",
      "06.12.2020  10:18    <DIR>          ..\n",
      "06.12.2020  10:18                71 checkpoint\n",
      "06.12.2020  10:18             2'064 cp.ckpt.data-00000-of-00002\n",
      "06.12.2020  10:18         4'884'624 cp.ckpt.data-00001-of-00002\n",
      "06.12.2020  10:18             1'251 cp.ckpt.index\n",
      "05.12.2020  20:42    <DIR>          cp.ckpt_temp_060bdefa8f6f4bb5855e99f1340e8f8b\n",
      "05.12.2020  20:46    <DIR>          cp.ckpt_temp_4fbf557ff3e74ecbaca98afb11a0a2bf\n",
      "05.12.2020  20:45    <DIR>          cp.ckpt_temp_736d8ae343fc49ce9d7e2761829df858\n",
      "               4 Datei(en),      4'888'010 Bytes\n",
      "               5 Verzeichnis(se), 96'360'820'736 Bytes frei\n"
     ]
    }
   ],
   "source": [
    "ls {checkpoint_dir}"
   ]
  },
  {
   "cell_type": "code",
   "execution_count": 6,
   "metadata": {},
   "outputs": [
    {
     "name": "stdout",
     "output_type": "stream",
     "text": [
      "1000/1000 - 0s - loss: 2.3360 - sparse_categorical_accuracy: 0.1040\n",
      "Untrained model, accuracy: 10.40%\n"
     ]
    }
   ],
   "source": [
    "# Create a basic model instance\n",
    "model = create_model()\n",
    "\n",
    "# Evaluate the model\n",
    "loss, acc = model.evaluate(test_images, test_labels, verbose=2)\n",
    "print(\"Untrained model, accuracy: {:5.2f}%\".format(100 * acc))"
   ]
  },
  {
   "cell_type": "code",
   "execution_count": 7,
   "metadata": {},
   "outputs": [
    {
     "name": "stdout",
     "output_type": "stream",
     "text": [
      "1000/1000 - 0s - loss: 0.3973 - sparse_categorical_accuracy: 0.8700\n",
      "Restored model, accuracy: 87.00%\n"
     ]
    }
   ],
   "source": [
    "# Loads the weights\n",
    "model.load_weights(checkpoint_path)\n",
    "\n",
    "# Re-evaluate the model\n",
    "loss, acc = model.evaluate(test_images, test_labels, verbose=2)\n",
    "print(\"Restored model, accuracy: {:5.2f}%\".format(100 * acc))"
   ]
  },
  {
   "cell_type": "code",
   "execution_count": 15,
   "metadata": {
    "scrolled": true
   },
   "outputs": [],
   "source": [
    "a = open(\"kk.png\", \"w+\")"
   ]
  },
  {
   "cell_type": "code",
   "execution_count": 16,
   "metadata": {
    "scrolled": true
   },
   "outputs": [
    {
     "ename": "PermissionError",
     "evalue": "[WinError 32] Der Prozess kann nicht auf die Datei zugreifen, da sie von einem anderen Prozess verwendet wird: 'kk.png'",
     "output_type": "error",
     "traceback": [
      "\u001b[1;31m---------------------------------------------------------------------------\u001b[0m",
      "\u001b[1;31mPermissionError\u001b[0m                           Traceback (most recent call last)",
      "\u001b[1;32m<ipython-input-16-3852f65824ea>\u001b[0m in \u001b[0;36m<module>\u001b[1;34m\u001b[0m\n\u001b[1;32m----> 1\u001b[1;33m \u001b[0mos\u001b[0m\u001b[1;33m.\u001b[0m\u001b[0mremove\u001b[0m\u001b[1;33m(\u001b[0m\u001b[1;34m\"kk.png\"\u001b[0m\u001b[1;33m)\u001b[0m\u001b[1;33m\u001b[0m\u001b[1;33m\u001b[0m\u001b[0m\n\u001b[0m",
      "\u001b[1;31mPermissionError\u001b[0m: [WinError 32] Der Prozess kann nicht auf die Datei zugreifen, da sie von einem anderen Prozess verwendet wird: 'kk.png'"
     ]
    }
   ],
   "source": [
    "os.remove(\"kk.png\")"
   ]
  },
  {
   "cell_type": "code",
   "execution_count": null,
   "metadata": {},
   "outputs": [],
   "source": []
  }
 ],
 "metadata": {
  "kernelspec": {
   "display_name": "tensorflow-gpu",
   "language": "python",
   "name": "tensorflow-gpu"
  },
  "language_info": {
   "codemirror_mode": {
    "name": "ipython",
    "version": 3
   },
   "file_extension": ".py",
   "mimetype": "text/x-python",
   "name": "python",
   "nbconvert_exporter": "python",
   "pygments_lexer": "ipython3",
   "version": "3.6.12"
  }
 },
 "nbformat": 4,
 "nbformat_minor": 4
}
