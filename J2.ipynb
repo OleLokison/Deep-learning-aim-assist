{
 "cells": [
  {
   "cell_type": "code",
   "execution_count": 2,
   "metadata": {},
   "outputs": [
    {
     "name": "stdout",
     "output_type": "stream",
     "text": [
      "2.1.0\n"
     ]
    }
   ],
   "source": [
    "import tensorflow as tf\n",
    "import os\n",
    "import random\n",
    "import numpy as np\n",
    "import matplotlib.pyplot as plt\n",
    "import pickle\n",
    "import time\n",
    "print(tf.version.VERSION)\n",
    "\n",
    "from win32gui import FindWindow, SetForegroundWindow, GetClientRect, ClientToScreen\n",
    "import pyautogui\n",
    "import cv2\n",
    "\n",
    "import tkinter as tk\n",
    "import tkinter\n",
    "from PIL import Image, ImageTk\n",
    "\n",
    "from threading import Thread"
   ]
  },
  {
   "cell_type": "code",
   "execution_count": 3,
   "metadata": {},
   "outputs": [
    {
     "data": {
      "text/plain": [
       "'\\nfrom win32gui import GetWindowText, EnumWindows\\ndef enum_window_titles():\\n\\t#returns all open window class names\\n\\tdef callback(handle, data):\\n\\t\\ttitles.append(GetWindowText(handle))\\n\\ttitles = []\\n\\tEnumWindows(callback, None)\\n\\treturn titles\\nprint(enum_window_titles())\\nenum_window_titles()\\n'"
      ]
     },
     "execution_count": 3,
     "metadata": {},
     "output_type": "execute_result"
    }
   ],
   "source": [
    "\"\"\"\n",
    "from win32gui import GetWindowText, EnumWindows\n",
    "def enum_window_titles():\n",
    "\t#returns all open window class names\n",
    "\tdef callback(handle, data):\n",
    "\t\ttitles.append(GetWindowText(handle))\n",
    "\ttitles = []\n",
    "\tEnumWindows(callback, None)\n",
    "\treturn titles\n",
    "print(enum_window_titles())\n",
    "enum_window_titles()\n",
    "\"\"\""
   ]
  },
  {
   "cell_type": "code",
   "execution_count": 4,
   "metadata": {},
   "outputs": [],
   "source": [
    "checkpoint_path = \"C:/Users/8holz/Dokumente/GitHub/K14/Training_Protocol\\Model-Grayscale-UNET/weights/saved_model.pb\"\n",
    "checkpoint_dir = os.path.dirname(checkpoint_path)\n",
    "\n",
    "#WindowClassName = 'Rainbow Six'\n",
    "WindowClassName = 'J2 - Jupyter Notebook - Google Chrome'\n",
    "\n",
    "PredImage = None"
   ]
  },
  {
   "cell_type": "code",
   "execution_count": 5,
   "metadata": {},
   "outputs": [],
   "source": [
    "def screenshot(window_title=None, lenx=512, leny=512):\n",
    "\tif window_title:\n",
    "\t\thwnd = FindWindow(None, window_title)\n",
    "\t\tif hwnd:\n",
    "\t\t\tSetForegroundWindow(hwnd)\n",
    "\t\t\tx, y, x1, y1 = GetClientRect(hwnd)\n",
    "\t\t\tx, y = ClientToScreen(hwnd, (x, y))\n",
    "\t\t\tx1, y1 = ClientToScreen(hwnd, (x1 - x, y1 - y))\n",
    "\t\t\t# x,y,x1,y1 position and size\n",
    "\t\t\tx += int((x1-lenx)/2)\n",
    "\t\t\tx1 = lenx\n",
    "\t\t\ty += int((y1-leny)/2)\n",
    "\t\t\ty1 = leny\n",
    "\t\t\tim = pyautogui.screenshot(region=(x, y, x1, y1))\n",
    "\t\t\tgray = cv2.cvtColor(np.array(im), cv2.COLOR_BGR2GRAY)\n",
    "\t\t\timage = np.array(gray).reshape(-1, lenx, leny, 1)\n",
    "\t\t\treturn image\n",
    "\t\telse:\n",
    "\t\t\tprint('Window not found!')\n",
    "\telse:\n",
    "\t\tim = pyautogui.screenshot()\n",
    "\t\tgray = cv2.cvtColor(np.array(im), cv2.COLOR_BGR2GRAY)\n",
    "\t\timage = np.array(gray).reshape(-1, lenx, leny, 1)\n",
    "\t\treturn image"
   ]
  },
  {
   "cell_type": "code",
   "execution_count": 6,
   "metadata": {},
   "outputs": [],
   "source": [
    "    def ImCompareGray(Im1, Im2, FigSize=(10,10)):\n",
    "        f = plt.figure(figsize=FigSize)\n",
    "        f.add_subplot(1,2, 1)\n",
    "        plt.imshow(Im1, cmap=\"gray\")\n",
    "        f.add_subplot(1,2, 2)\n",
    "        plt.imshow(Im2, cmap=\"gray\")\n",
    "        plt.show(block=True)"
   ]
  },
  {
   "cell_type": "code",
   "execution_count": 7,
   "metadata": {},
   "outputs": [],
   "source": [
    "def load_K14():\n",
    "    #model = create_model(IMG_HEIGHT, IMG_WIDTH, IMG_CHANNELS)\n",
    "    #model.summary()\n",
    "    model = tf.keras.models.load_model(checkpoint_dir)\n",
    "    #model.summary()\n",
    "\n",
    "    configproto = tf.compat.v1.ConfigProto() \n",
    "    configproto.gpu_options.allow_growth = True\n",
    "    sess = tf.compat.v1.Session(config=configproto) \n",
    "    tf.compat.v1.keras.backend.set_session(sess)\n",
    "    return model"
   ]
  },
  {
   "cell_type": "code",
   "execution_count": 8,
   "metadata": {
    "scrolled": true
   },
   "outputs": [],
   "source": [
    "model = load_K14(\n",
    ")"
   ]
  },
  {
   "cell_type": "code",
   "execution_count": 9,
   "metadata": {},
   "outputs": [],
   "source": [
    "def xyz(image):\n",
    "    a = time.time()\n",
    "    im_preds = model.predict(image, verbose=1)\n",
    "    print(time.time()-a)\n",
    "    image = image.reshape(512, 512, 1)\n",
    "    im_preds = im_preds.reshape(512, 512, 1)\n",
    "    #ImCompareGray(image, im_preds)\n",
    "    return im_preds"
   ]
  },
  {
   "cell_type": "code",
   "execution_count": 13,
   "metadata": {
    "scrolled": true
   },
   "outputs": [
    {
     "name": "stdout",
     "output_type": "stream",
     "text": [
      "1/1 [==============================] - 3s 3s/sample\n",
      "2.8968608379364014\n"
     ]
    }
   ],
   "source": [
    "PredImage=xyz(screenshot(WindowClassName))"
   ]
  },
  {
   "cell_type": "code",
   "execution_count": 14,
   "metadata": {},
   "outputs": [],
   "source": [
    "ImageTesten = None"
   ]
  },
  {
   "cell_type": "code",
   "execution_count": 15,
   "metadata": {},
   "outputs": [],
   "source": [
    "def recursive(root):\n",
    "\tglobal PredImage, ImageTesten\n",
    "\tcanvas = tk.Canvas(root, width = 512, height = 512)\n",
    "\tcanvas.pack()\n",
    "\tImageTesten = ImageTk.PhotoImage(Image.fromarray((cv2.cvtColor(PredImage,cv2.COLOR_GRAY2RGB) * 255).astype(np.uint8)))\n",
    "\tcanvas.create_image(0,0, anchor=tk.NW, image=ImageTesten)\n",
    "\n",
    "root = tk.Tk()\n",
    "recursive(root)\n",
    "root.after(500, recursive(root))\n",
    "root.mainloop()"
   ]
  },
  {
   "cell_type": "code",
   "execution_count": null,
   "metadata": {},
   "outputs": [],
   "source": [
    "class myThread1(Thread):\n",
    "\tdef __init__(self):\n",
    "\t\tThread.__init__(self)\n",
    "\t\tNone\n",
    "\n",
    "\tdef run(self):\n",
    "\t\tdef recursive(root):\n",
    "\t\t\tglobal PredImage, ImageTesten\n",
    "\t\t\tcanvas = tk.Canvas(root, width = 512, height = 512)\n",
    "\t\t\tcanvas.pack()\n",
    "\t\t\tImageTesten = ImageTk.PhotoImage(Image.fromarray((cv2.cvtColor(PredImage,cv2.COLOR_GRAY2RGB) * 255).astype(np.uint8)))\n",
    "\t\t\tcanvas.create_image(0,0, anchor=tk.NW, image=ImageTesten)\n",
    "\n",
    "            \n",
    "            \n",
    "\t\troot = tk.Tk()\n",
    "\t\trecursive(root)\n",
    "\t\troot.after(500, recursive(root))\n",
    "\t\troot.mainloop()"
   ]
  },
  {
   "cell_type": "code",
   "execution_count": null,
   "metadata": {},
   "outputs": [],
   "source": [
    "inst = myThread1()"
   ]
  },
  {
   "cell_type": "code",
   "execution_count": null,
   "metadata": {},
   "outputs": [],
   "source": [
    "inst.start()"
   ]
  },
  {
   "cell_type": "code",
   "execution_count": 14,
   "metadata": {},
   "outputs": [],
   "source": [
    "PredImage = screenshot(WindowClassName)"
   ]
  },
  {
   "cell_type": "code",
   "execution_count": null,
   "metadata": {},
   "outputs": [],
   "source": []
  }
 ],
 "metadata": {
  "kernelspec": {
   "display_name": "tensorflow-gpu",
   "language": "python",
   "name": "tensorflow-gpu"
  },
  "language_info": {
   "codemirror_mode": {
    "name": "ipython",
    "version": 3
   },
   "file_extension": ".py",
   "mimetype": "text/x-python",
   "name": "python",
   "nbconvert_exporter": "python",
   "pygments_lexer": "ipython3",
   "version": "3.6.12"
  }
 },
 "nbformat": 4,
 "nbformat_minor": 4
}
