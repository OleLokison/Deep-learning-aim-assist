{
 "cells": [
  {
   "cell_type": "code",
   "execution_count": 1,
   "metadata": {},
   "outputs": [],
   "source": [
    "import os\n",
    "import pickle\n",
    "from win32gui import FindWindow, SetForegroundWindow, GetClientRect, ClientToScreen\n",
    "import pyautogui\n",
    "import cv2\n",
    "import numpy as np\n",
    "import tensorflow as tf\n",
    "import tkinter as tk\n",
    "from PIL import Image, ImageTk\n",
    "from threading import Thread\n",
    "from ctypes import windll\n",
    "from math import floor, ceil\n",
    "import win32api\n",
    "import time"
   ]
  },
  {
   "cell_type": "code",
   "execution_count": null,
   "metadata": {},
   "outputs": [],
   "source": [
    "WindosClassName3 = 'Fotos'"
   ]
  },
  {
   "cell_type": "code",
   "execution_count": null,
   "metadata": {},
   "outputs": [],
   "source": [
    "class MouseControlV4(Thread):\n",
    "\tdef __init__(self):\n",
    "\t\tThread.__init__(self)\n",
    "\t\tNone\n",
    "\tdef run(self):\n",
    "\t    #32 directions, 512 distances, 1 Iteration = 0.015\n",
    "\t\tglobal distx, disty, strength, Exceptions, MaxIterations\n",
    "\t\tLdistx, Ldisty = distx, disty\n",
    "\t\twhile StopKey:\n",
    "\t\t\tif Ldistx != distx or Ldisty != disty:\n",
    "\t\t\t\tt = time.time()\n",
    "\t\t\t\tLdistx = distx\n",
    "\t\t\t\tLdisty = disty\n",
    "\t\t\t\tLstrength = strength\n",
    "\t\t\t\tLExceptions = Exceptions\n",
    "\t\t\t\tLMaxIterations = MaxIterations\n",
    "\t\t\t\tx = distx*strength\n",
    "\t\t\t\ty = disty*strength\n",
    "\t\t\t\t#print(x,y)\n",
    "\t\t\t\tif x not in Exceptions or y not in Exceptions:\n",
    "\t\t\t\t\tif min(x,y)<=1:\n",
    "\t\t\t\t\t\twindll.user32.mouse_event(0x0001, int(x), int(y), 0, 0)\n",
    "\t\t\t\t\telse:\n",
    "\t\t\t\t\t\tif min(x,y)>MaxIterations:\n",
    "\t\t\t\t\t\t\tIterations = 6\n",
    "\t\t\t\t\t\telse:\n",
    "\t\t\t\t\t\t\tIterations=ceil(min(x,y))\n",
    "\t\t\t\t\t\tx1 = floor(x/(Iterations-1))\n",
    "\t\t\t\t\t\ty1 = floor(y/(Iterations-1))\n",
    "\t\t\t\t\t\tfor i in range(Iterations-1):\n",
    "\t\t\t\t\t\t\twindll.user32.mouse_event(0x0001, x1, y1, 0, 0)\n",
    "\t\t\t\t\t\t\t#time.sleep(0.005)\n",
    "\t\t\t\t\t\twindll.user32.mouse_event(0x0001, int(x)-(x1*Iterations-1), int(y)-(y1*Iterations-1), 0, 0)\n",
    "\t\t\t\tprint(time.time()-t)\n",
    "\t\t\ttime.sleep(0.05)"
   ]
  }
 ],
 "metadata": {
  "kernelspec": {
   "display_name": "Python 3",
   "language": "python",
   "name": "python3"
  },
  "language_info": {
   "codemirror_mode": {
    "name": "ipython",
    "version": 3
   },
   "file_extension": ".py",
   "mimetype": "text/x-python",
   "name": "python",
   "nbconvert_exporter": "python",
   "pygments_lexer": "ipython3",
   "version": "3.6.12"
  }
 },
 "nbformat": 4,
 "nbformat_minor": 4
}
