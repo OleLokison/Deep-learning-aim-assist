{
 "cells": [
  {
   "cell_type": "code",
   "execution_count": 1,
   "metadata": {},
   "outputs": [
    {
     "name": "stdout",
     "output_type": "stream",
     "text": [
      "2.1.0\n"
     ]
    }
   ],
   "source": [
    "import tensorflow as tf\n",
    "import os\n",
    "import random\n",
    "import numpy as np\n",
    "import matplotlib.pyplot as plt\n",
    "import pickle\n",
    "import time\n",
    "print(tf.version.VERSION)"
   ]
  },
  {
   "cell_type": "code",
   "execution_count": 2,
   "metadata": {},
   "outputs": [],
   "source": [
    "DATADIR0 = r\"D:\\K14\\Dataset\\K14-Dataset-1.pickle\"\n",
    "DATADIR1 = r\"D:\\K14\\Dataset\\K14-Dataset-0-Stuff.pickle\"\n",
    "DATADIR2 = os.path.dirname(r\"C:\\Users\\8holz\\Dokumente\\GitHub\\K14\\Training_Protocol\\\\\")\n",
    "DATADIR3 = None\n",
    "\n",
    "checkpoint_path = \"C:/Users/8holz/Dokumente/GitHub/K14/Training_Protocol/Model-Color-UNET-Terrosristhunt/weights/saved_model.pb\"\n",
    "checkpoint_dir = os.path.dirname(checkpoint_path)"
   ]
  },
  {
   "cell_type": "code",
   "execution_count": 3,
   "metadata": {},
   "outputs": [],
   "source": [
    "IMG_WIDTH = 512\n",
    "IMG_HEIGHT = 512\n",
    "IMG_CHANNELS = 3"
   ]
  },
  {
   "cell_type": "code",
   "execution_count": 4,
   "metadata": {},
   "outputs": [],
   "source": [
    "Data = pickle.load(open(DATADIR0, \"rb\"))\n",
    "X_train = Data[\"TrainImages0\"]\n",
    "Y_train = Data[\"TrainImages1\"]\n",
    "\n",
    "X_test = Data[\"TestImages0\"]\n",
    "Y_test = Data[\"TestImages1\"]"
   ]
  },
  {
   "cell_type": "code",
   "execution_count": 5,
   "metadata": {},
   "outputs": [],
   "source": [
    "# Define a simple sequential model\n",
    "def create_model(IMG_HEIGHT, IMG_WIDTH, IMG_CHANNELS):\n",
    "    #Build the model\n",
    "    inputs = tf.keras.layers.Input((IMG_HEIGHT, IMG_WIDTH, IMG_CHANNELS))\n",
    "    s = tf.keras.layers.Lambda(lambda x: x / 255)(inputs)\n",
    "\n",
    "    #Contraction path\n",
    "    c1 = tf.keras.layers.Conv2D(16, (3, 3), activation='relu', kernel_initializer='he_normal', padding='same')(s)\n",
    "    c1 = tf.keras.layers.Dropout(0.1)(c1)\n",
    "    c1 = tf.keras.layers.Conv2D(16, (3, 3), activation='relu', kernel_initializer='he_normal', padding='same')(c1)\n",
    "    p1 = tf.keras.layers.MaxPooling2D((2, 2))(c1)\n",
    "\n",
    "    c2 = tf.keras.layers.Conv2D(32, (3, 3), activation='relu', kernel_initializer='he_normal', padding='same')(p1)\n",
    "    c2 = tf.keras.layers.Dropout(0.1)(c2)\n",
    "    c2 = tf.keras.layers.Conv2D(32, (3, 3), activation='relu', kernel_initializer='he_normal', padding='same')(c2)\n",
    "    p2 = tf.keras.layers.MaxPooling2D((2, 2))(c2)\n",
    "\n",
    "    c3 = tf.keras.layers.Conv2D(64, (3, 3), activation='relu', kernel_initializer='he_normal', padding='same')(p2)\n",
    "    c3 = tf.keras.layers.Dropout(0.2)(c3)\n",
    "    c3 = tf.keras.layers.Conv2D(64, (3, 3), activation='relu', kernel_initializer='he_normal', padding='same')(c3)\n",
    "    p3 = tf.keras.layers.MaxPooling2D((2, 2))(c3)\n",
    "\n",
    "    c4 = tf.keras.layers.Conv2D(128, (3, 3), activation='relu', kernel_initializer='he_normal', padding='same')(p3)\n",
    "    c4 = tf.keras.layers.Dropout(0.2)(c4)\n",
    "    c4 = tf.keras.layers.Conv2D(128, (3, 3), activation='relu', kernel_initializer='he_normal', padding='same')(c4)\n",
    "    p4 = tf.keras.layers.MaxPooling2D(pool_size=(2, 2))(c4)\n",
    "\n",
    "    c5 = tf.keras.layers.Conv2D(256, (3, 3), activation='relu', kernel_initializer='he_normal', padding='same')(p4)\n",
    "    c5 = tf.keras.layers.Dropout(0.3)(c5)\n",
    "    c5 = tf.keras.layers.Conv2D(256, (3, 3), activation='relu', kernel_initializer='he_normal', padding='same')(c5)\n",
    "\n",
    "    #Expansive path \n",
    "    u6 = tf.keras.layers.Conv2DTranspose(128, (2, 2), strides=(2, 2), padding='same')(c5)\n",
    "    u6 = tf.keras.layers.concatenate([u6, c4])\n",
    "    c6 = tf.keras.layers.Conv2D(128, (3, 3), activation='relu', kernel_initializer='he_normal', padding='same')(u6)\n",
    "    c6 = tf.keras.layers.Dropout(0.2)(c6)\n",
    "    c6 = tf.keras.layers.Conv2D(128, (3, 3), activation='relu', kernel_initializer='he_normal', padding='same')(c6)\n",
    "\n",
    "    u7 = tf.keras.layers.Conv2DTranspose(64, (2, 2), strides=(2, 2), padding='same')(c6)\n",
    "    u7 = tf.keras.layers.concatenate([u7, c3])\n",
    "    c7 = tf.keras.layers.Conv2D(64, (3, 3), activation='relu', kernel_initializer='he_normal', padding='same')(u7)\n",
    "    c7 = tf.keras.layers.Dropout(0.2)(c7)\n",
    "    c7 = tf.keras.layers.Conv2D(64, (3, 3), activation='relu', kernel_initializer='he_normal', padding='same')(c7)\n",
    "\n",
    "    u8 = tf.keras.layers.Conv2DTranspose(32, (2, 2), strides=(2, 2), padding='same')(c7)\n",
    "    u8 = tf.keras.layers.concatenate([u8, c2])\n",
    "    c8 = tf.keras.layers.Conv2D(32, (3, 3), activation='relu', kernel_initializer='he_normal', padding='same')(u8)\n",
    "    c8 = tf.keras.layers.Dropout(0.1)(c8)\n",
    "    c8 = tf.keras.layers.Conv2D(32, (3, 3), activation='relu', kernel_initializer='he_normal', padding='same')(c8)\n",
    "\n",
    "    u9 = tf.keras.layers.Conv2DTranspose(16, (2, 2), strides=(2, 2), padding='same')(c8)\n",
    "    u9 = tf.keras.layers.concatenate([u9, c1], axis=3)\n",
    "    c9 = tf.keras.layers.Conv2D(16, (3, 3), activation='relu', kernel_initializer='he_normal', padding='same')(u9)\n",
    "    c9 = tf.keras.layers.Dropout(0.1)(c9)\n",
    "    c9 = tf.keras.layers.Conv2D(16, (3, 3), activation='relu', kernel_initializer='he_normal', padding='same')(c9)\n",
    "\n",
    "    outputs = tf.keras.layers.Conv2D(1, (1, 1), activation='sigmoid')(c9)\n",
    "\n",
    "    model = tf.keras.Model(inputs=[inputs], outputs=[outputs])\n",
    "    model.compile(optimizer='adam', loss='binary_crossentropy', metrics=['accuracy'])\n",
    "    return model"
   ]
  },
  {
   "cell_type": "code",
   "execution_count": 6,
   "metadata": {},
   "outputs": [
    {
     "data": {
      "text/plain": [
       "'\\nmodel = create_model(IMG_HEIGHT, IMG_WIDTH, IMG_CHANNELS)\\nmodel.summary()\\n\\nconfigproto = tf.compat.v1.ConfigProto() \\nconfigproto.gpu_options.allow_growth = True\\nsess = tf.compat.v1.Session(config=configproto) \\ntf.compat.v1.keras.backend.set_session(sess)\\n'"
      ]
     },
     "execution_count": 6,
     "metadata": {},
     "output_type": "execute_result"
    }
   ],
   "source": [
    "\"\"\"\n",
    "model = create_model(IMG_HEIGHT, IMG_WIDTH, IMG_CHANNELS)\n",
    "model.summary()\n",
    "\n",
    "configproto = tf.compat.v1.ConfigProto() \n",
    "configproto.gpu_options.allow_growth = True\n",
    "sess = tf.compat.v1.Session(config=configproto) \n",
    "tf.compat.v1.keras.backend.set_session(sess)\n",
    "\"\"\""
   ]
  },
  {
   "cell_type": "code",
   "execution_count": 7,
   "metadata": {},
   "outputs": [],
   "source": [
    "def load_K14():\n",
    "    model = create_model(IMG_HEIGHT, IMG_WIDTH, IMG_CHANNELS)\n",
    "    #model.summary()\n",
    "    model = tf.keras.models.load_model(checkpoint_dir)\n",
    "\n",
    "    configproto = tf.compat.v1.ConfigProto() \n",
    "    configproto.gpu_options.allow_growth = True\n",
    "    sess = tf.compat.v1.Session(config=configproto) \n",
    "    tf.compat.v1.keras.backend.set_session(sess)\n",
    "    return model"
   ]
  },
  {
   "cell_type": "code",
   "execution_count": 8,
   "metadata": {},
   "outputs": [],
   "source": [
    "def Train_K14(model):\n",
    "    ################################\n",
    "    #Modelcheckpoint\n",
    "    checkpointer = tf.keras.callbacks.ModelCheckpoint(filepath=checkpoint_dir, verbose=1, save_best_only=True)\n",
    "\n",
    "    callbacks = [\n",
    "            tf.keras.callbacks.EarlyStopping(patience=2, monitor='val_loss'),\n",
    "            tf.keras.callbacks.TensorBoard(log_dir='logs')]\n",
    "\n",
    "    results = model.fit(X_train, Y_train, validation_split=0.1, batch_size=16, epochs=1, callbacks=[checkpointer])\n",
    "    ####################################"
   ]
  },
  {
   "cell_type": "code",
   "execution_count": 9,
   "metadata": {},
   "outputs": [],
   "source": [
    "model = load_K14()"
   ]
  },
  {
   "cell_type": "code",
   "execution_count": null,
   "metadata": {},
   "outputs": [
    {
     "name": "stdout",
     "output_type": "stream",
     "text": [
      "Train on 2151 samples, validate on 240 samples\n",
      "1472/2151 [===================>..........] - ETA: 24s - loss: 0.0032 - accuracy: 0.9987"
     ]
    }
   ],
   "source": [
    "Train_K14(model)"
   ]
  },
  {
   "cell_type": "code",
   "execution_count": null,
   "metadata": {},
   "outputs": [
    {
     "name": "stdout",
     "output_type": "stream",
     "text": [
      "Epoch: 0 is starting\n",
      "Train on 2151 samples, validate on 240 samples\n",
      "2144/2151 [============================>.] - ETA: 0s - loss: 0.0033 - accuracy: 0.9986\n",
      "Epoch 00001: val_loss improved from inf to 0.15900, saving model to C:/Users/8holz/Dokumente/GitHub/K14/Training_Protocol/Model-Color-UNET-Terrosristhunt/weights\n",
      "INFO:tensorflow:Assets written to: C:/Users/8holz/Dokumente/GitHub/K14/Training_Protocol/Model-Color-UNET-Terrosristhunt/weights\\assets\n",
      "2151/2151 [==============================] - 56s 26ms/sample - loss: 0.0033 - accuracy: 0.9986 - val_loss: 0.1590 - val_accuracy: 0.9833\n",
      "Epoch finished\n",
      "\n",
      "Epoch: 1 is starting\n",
      "Train on 2151 samples, validate on 240 samples\n",
      "2144/2151 [============================>.] - ETA: 0s - loss: 0.0034 - accuracy: 0.9986\n",
      "Epoch 00001: val_loss improved from inf to 0.16319, saving model to C:/Users/8holz/Dokumente/GitHub/K14/Training_Protocol/Model-Color-UNET-Terrosristhunt/weights\n",
      "INFO:tensorflow:Assets written to: C:/Users/8holz/Dokumente/GitHub/K14/Training_Protocol/Model-Color-UNET-Terrosristhunt/weights\\assets\n",
      "2151/2151 [==============================] - 51s 24ms/sample - loss: 0.0034 - accuracy: 0.9986 - val_loss: 0.1632 - val_accuracy: 0.9838\n",
      "Epoch finished\n",
      "\n",
      "Epoch: 2 is starting\n",
      "Train on 2151 samples, validate on 240 samples\n",
      "1456/2151 [===================>..........] - ETA: 15s - loss: 0.0033 - accuracy: 0.9986"
     ]
    }
   ],
   "source": [
    "for i in range(30):\n",
    "    try:\n",
    "        print(\"Epoch: \"+str(i)+\" is starting\")\n",
    "        model = load_K14()\n",
    "        Train_K14(model)\n",
    "        time.sleep(5)\n",
    "        print(\"Epoch finished\\n\")\n",
    "    except:\n",
    "        print(\"Caught it!\")\n",
    "print(\"Training done so far\\n\")"
   ]
  },
  {
   "cell_type": "code",
   "execution_count": null,
   "metadata": {
    "scrolled": true
   },
   "outputs": [],
   "source": [
    "#ls {checkpoint_dir}"
   ]
  },
  {
   "cell_type": "code",
   "execution_count": null,
   "metadata": {},
   "outputs": [],
   "source": [
    "\"\"\"\n",
    "idx = random.randint(0, len(X_train))\n",
    "\n",
    "\n",
    "preds_train = model.predict(X_train[:int(X_train.shape[0]*0.9)], verbose=1)\n",
    "preds_val = model.predict(X_train[int(X_train.shape[0]*0.9):], verbose=1)\n",
    "preds_test = model.predict(X_test, verbose=1)\n",
    "\n",
    " \n",
    "preds_train_t = (preds_train > 0.5).astype(np.uint8)\n",
    "preds_val_t = (preds_val > 0.5).astype(np.uint8)\n",
    "preds_test_t = (preds_test > 0.5).astype(np.uint8)\n",
    "\"\"\"\n",
    "\n",
    "\"\"\"\n",
    "# Perform a sanity check on some random training samples\n",
    "ix = random.randint(0, len(preds_train_t))\n",
    "plt.imshow(X_train[ix])\n",
    "plt.show()\n",
    "plt.imshow(np.squeeze(Y_train[ix]))\n",
    "plt.show()\n",
    "plt.imshow(np.squeeze(preds_train_t[ix]))\n",
    "plt.show()\n",
    "\"\"\"\n",
    "\"\"\"\n",
    "def ImCompareGray(Im1, Im2, FigSize=(10,10)):\n",
    "    f = plt.figure(figsize=FigSize)\n",
    "    f.add_subplot(1,2, 1)\n",
    "    plt.imshow(Im1)\n",
    "    f.add_subplot(1,2, 2)\n",
    "    plt.imshow(Im2)\n",
    "    plt.show(block=True)\n",
    "\n",
    "for i in range(50):\n",
    "\tImCompareGray(X_train[i], np.squeeze(preds_train_t[i]))\n",
    "\"\"\""
   ]
  },
  {
   "cell_type": "code",
   "execution_count": null,
   "metadata": {},
   "outputs": [],
   "source": [
    "\"\"\"\n",
    "Dir = r\"C:\\Users\\8holz\\Dokumente\\GitHub\\K14\\Training_Protocol\\Model-Grayscale-UNET\\images.pickle\"\n",
    "a = []\n",
    "for i in X_train, Y_train, preds_train_t:\n",
    "    a.append(i)\n",
    "pickle.dump(a, open(Dir, \"wb\"))\n",
    "\"\"\""
   ]
  },
  {
   "cell_type": "code",
   "execution_count": null,
   "metadata": {},
   "outputs": [],
   "source": [
    "\"\"\"\n",
    "def Protocol(Dir, ModelName, Model, Img):\n",
    "    #Model needs full path\n",
    "    os.chdir(Dir)\n",
    "    os.mkdir(ModelName)\n",
    "    os.chdir(ModelName)\n",
    "    os.system(\" cp \"+str(Model)+\" \"+str(Dir+ModelName+\"Model.ckpt\"))\n",
    "\"\"\""
   ]
  }
 ],
 "metadata": {
  "kernelspec": {
   "display_name": "tensorflow-gpu",
   "language": "python",
   "name": "tensorflow-gpu"
  },
  "language_info": {
   "codemirror_mode": {
    "name": "ipython",
    "version": 3
   },
   "file_extension": ".py",
   "mimetype": "text/x-python",
   "name": "python",
   "nbconvert_exporter": "python",
   "pygments_lexer": "ipython3",
   "version": "3.6.12"
  }
 },
 "nbformat": 4,
 "nbformat_minor": 4
}
