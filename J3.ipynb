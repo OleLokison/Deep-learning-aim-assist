{
 "cells": [
  {
   "cell_type": "code",
   "execution_count": 1,
   "metadata": {
    "scrolled": true
   },
   "outputs": [],
   "source": [
    "import os\n",
    "import pickle\n",
    "from win32gui import FindWindow, SetForegroundWindow, GetClientRect, ClientToScreen\n",
    "import pyautogui\n",
    "import cv2\n",
    "import numpy as np\n",
    "import tkinter as tk\n",
    "from PIL import Image, ImageTk\n",
    "from matplotlib import pyplot as plt\n",
    "from ctypes import windll\n",
    "from math import floor, ceil\n",
    "import win32api\n",
    "import time\n",
    "from threading import Thread"
   ]
  },
  {
   "cell_type": "code",
   "execution_count": 2,
   "metadata": {},
   "outputs": [],
   "source": [
    "distx, disty = 0, 0\n",
    "distx5, disty5 = 0, 0\n",
    "strength = 1\n",
    "Exceptions = [-76.2, 33.3, -35.699999999999996, 77.0, -88.5, -127.0, -97.5, 32.5, -21.5, -68.0, -254]\n",
    "MaxIterations = 3\n",
    "StopKey=True"
   ]
  },
  {
   "cell_type": "code",
   "execution_count": 3,
   "metadata": {},
   "outputs": [],
   "source": [
    "class MouseControlV4(Thread):\n",
    "\tdef __init__(self):\n",
    "\t\tThread.__init__(self)\n",
    "\t\tNone\n",
    "\tdef run(self):\n",
    "\t    #32 directions, 512 distances, 1 Iteration = 0.015\n",
    "\t\tglobal distx, disty, strength, Exceptions, MaxIterations\n",
    "\t\tLdistx, Ldisty = distx, disty\n",
    "\t\twhile StopKey:\n",
    "\t\t\tif Ldistx != distx or Ldisty != disty:\n",
    "\t\t\t\tt = time.time()\n",
    "\t\t\t\tLdistx = distx\n",
    "\t\t\t\tLdisty = disty\n",
    "\t\t\t\tLstrength = strength\n",
    "\t\t\t\tLExceptions = Exceptions\n",
    "\t\t\t\tLMaxIterations = MaxIterations\n",
    "\t\t\t\tx = distx*strength\n",
    "\t\t\t\ty = disty*strength\n",
    "\t\t\t\t#print(x,y)\n",
    "\t\t\t\tif x not in Exceptions or y not in Exceptions:\n",
    "\t\t\t\t\tif min(x,y)<=1:\n",
    "\t\t\t\t\t\twindll.user32.mouse_event(0x0001, int(x), int(y), 0, 0)\n",
    "\t\t\t\t\telse:\n",
    "\t\t\t\t\t\tif min(x,y)>MaxIterations:\n",
    "\t\t\t\t\t\t\tIterations = 6\n",
    "\t\t\t\t\t\telse:\n",
    "\t\t\t\t\t\t\tIterations=ceil(min(x,y))\n",
    "\t\t\t\t\t\tx1 = floor(x/(Iterations-1))\n",
    "\t\t\t\t\t\ty1 = floor(y/(Iterations-1))\n",
    "\t\t\t\t\t\tfor i in range(Iterations-1):\n",
    "\t\t\t\t\t\t\twindll.user32.mouse_event(0x0001, x1, y1, 0, 0)\n",
    "\t\t\t\t\t\t\t#time.sleep(0.005)\n",
    "\t\t\t\t\t\twindll.user32.mouse_event(0x0001, int(x)-(x1*Iterations-1), int(y)-(y1*Iterations-1), 0, 0)\n",
    "\t\t\t\tprint(time.time()-t)\n",
    "\t\t\ttime.sleep(0.05)"
   ]
  },
  {
   "cell_type": "code",
   "execution_count": null,
   "metadata": {},
   "outputs": [],
   "source": [
    "class MouseControlV5(Thread):\n",
    "\tdef __init__(self):\n",
    "\t\tThread.__init__(self)\n",
    "\t\tNone\n",
    "\tdef run(self):\n",
    "\t    #32 directions, 512 distances, 1 Iteration = 0.015\n",
    "\t\tglobal distx5, disty5, strength, Exceptions, MaxIterations\n",
    "\t\tLdistx, Ldisty = distx, disty\n",
    "\t\twhile StopKey:\n",
    "\t\t\tif Ldistx != distx or Ldisty != disty:\n",
    "\t\t\t\tt = time.time()\n",
    "\t\t\t\tLdistx = distx\n",
    "\t\t\t\tLdisty = disty\n",
    "\t\t\t\tLstrength = strength\n",
    "\t\t\t\tLExceptions = Exceptions\n",
    "\t\t\t\tLMaxIterations = MaxIterations\n",
    "\t\t\t\tx = distx*strength\n",
    "\t\t\t\ty = disty*strength\n",
    "\t\t\t\t#print(x,y)\n",
    "\t\t\t\tif x not in Exceptions or y not in Exceptions:\n",
    "\t\t\t\t\tif min(x,y)<=1:\n",
    "\t\t\t\t\t\twindll.user32.mouse_event(0x0001, int(x), int(y), 0, 0)\n",
    "\t\t\t\t\telse:\n",
    "\t\t\t\t\t\tif min(x,y)>MaxIterations:\n",
    "\t\t\t\t\t\t\tIterations = 6\n",
    "\t\t\t\t\t\telse:\n",
    "\t\t\t\t\t\t\tIterations=ceil(min(x,y))\n",
    "\t\t\t\t\t\tx1 = floor(x/(Iterations-1))\n",
    "\t\t\t\t\t\ty1 = floor(y/(Iterations-1))\n",
    "\t\t\t\t\t\tfor i in range(Iterations-1):\n",
    "\t\t\t\t\t\t\twindll.user32.mouse_event(0x0001, x1, y1, 0, 0)\n",
    "\t\t\t\t\t\t\t#time.sleep(0.005)\n",
    "\t\t\t\t\t\twindll.user32.mouse_event(0x0001, int(x)-(x1*Iterations-1), 0, 0, 0)\n",
    "\t\t\t\t\t\twindll.user32.mouse_event(0x0001, 0, int(y)-(y1*Iterations-1), 0, 0)\n",
    "\t\t\t\tprint(time.time()-t)\n",
    "\t\t\ttime.sleep(0.05)"
   ]
  },
  {
   "cell_type": "code",
   "execution_count": 4,
   "metadata": {},
   "outputs": [],
   "source": [
    "inst1 = MouseControlV4()"
   ]
  },
  {
   "cell_type": "code",
   "execution_count": 5,
   "metadata": {},
   "outputs": [],
   "source": [
    "inst1.start()"
   ]
  },
  {
   "cell_type": "code",
   "execution_count": 21,
   "metadata": {
    "scrolled": true
   },
   "outputs": [
    {
     "name": "stdout",
     "output_type": "stream",
     "text": [
      "-36 -34\n",
      "-32 -37\n"
     ]
    }
   ],
   "source": [
    "for i in range(2):\n",
    "    time.sleep(1)\n",
    "    print(pyautogui.position()[0]-1280, pyautogui.position()[1]-720)"
   ]
  },
  {
   "cell_type": "code",
   "execution_count": 53,
   "metadata": {},
   "outputs": [
    {
     "name": "stdout",
     "output_type": "stream",
     "text": [
      "0.001965761184692383\n"
     ]
    }
   ],
   "source": [
    "x0, y0 = 1280, 720\n",
    "pyautogui.moveTo(x0, 0)\n",
    "time.sleep(0.1)\n",
    "distx, disty = +10, +412\n",
    "#half screen x(2560) =  +732, y = 412"
   ]
  },
  {
   "cell_type": "code",
   "execution_count": 52,
   "metadata": {},
   "outputs": [
    {
     "name": "stdout",
     "output_type": "stream",
     "text": [
      "0.00099945068359375\n"
     ]
    }
   ],
   "source": [
    "distx, disty = 3, (7)"
   ]
  },
  {
   "cell_type": "code",
   "execution_count": null,
   "metadata": {},
   "outputs": [],
   "source": []
  },
  {
   "cell_type": "code",
   "execution_count": null,
   "metadata": {},
   "outputs": [],
   "source": []
  }
 ],
 "metadata": {
  "kernelspec": {
   "display_name": "tensorflow-gpu",
   "language": "python",
   "name": "tensorflow-gpu"
  },
  "language_info": {
   "codemirror_mode": {
    "name": "ipython",
    "version": 3
   },
   "file_extension": ".py",
   "mimetype": "text/x-python",
   "name": "python",
   "nbconvert_exporter": "python",
   "pygments_lexer": "ipython3",
   "version": "3.6.12"
  }
 },
 "nbformat": 4,
 "nbformat_minor": 4
}
